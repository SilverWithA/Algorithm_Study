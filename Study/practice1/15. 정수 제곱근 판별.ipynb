{
 "cells": [
  {
   "cell_type": "markdown",
   "id": "dcaef0a7",
   "metadata": {},
   "source": [
    "# 15. 정수 제곱근 판별\n",
    "https://school.programmers.co.kr/learn/courses/30/lessons/12934\n",
    "\n",
    "문제 설명 임의의 양의 정수 n에 대해, n이 어떤 양의 정수 x의 제곱인지 아닌지 판단하려 합니다. n이 양의 정수 x의 제곱이라면 x+1의 제곱을 리턴하고, n이 양의 정수 x의 제곱이 아니라면 -1을 리턴하는 함수를 완성하세요."
   ]
  },
  {
   "cell_type": "code",
   "execution_count": 1,
   "id": "9635e35c",
   "metadata": {},
   "outputs": [
    {
     "name": "stdout",
     "output_type": "stream",
     "text": [
      "144\n",
      "-1\n"
     ]
    }
   ],
   "source": [
    "def solution(n):\n",
    "    \n",
    "    \n",
    "    # n의 반절 정숫값까지 제곱 연산 수행\n",
    "    # 이때 n값이 나온다면 i는 n의 제곱근\n",
    "    \n",
    "    \n",
    "    for i in range(n//2):\n",
    "        if i*i == n:\n",
    "            return (i+1)*(i+1)\n",
    "        \n",
    "    else:\n",
    "        return -1\n",
    "    \n",
    "print(solution(121))\n",
    "print(solution(3))"
   ]
  }
 ],
 "metadata": {
  "kernelspec": {
   "display_name": "Python 3 (ipykernel)",
   "language": "python",
   "name": "python3"
  },
  "language_info": {
   "codemirror_mode": {
    "name": "ipython",
    "version": 3
   },
   "file_extension": ".py",
   "mimetype": "text/x-python",
   "name": "python",
   "nbconvert_exporter": "python",
   "pygments_lexer": "ipython3",
   "version": "3.10.9"
  }
 },
 "nbformat": 4,
 "nbformat_minor": 5
}
