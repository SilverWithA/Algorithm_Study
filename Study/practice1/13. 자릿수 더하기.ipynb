{
 "cells": [
  {
   "cell_type": "markdown",
   "id": "4abfd715",
   "metadata": {},
   "source": [
    "# 13. 자릿수 더하기\n",
    "https://school.programmers.co.kr/learn/courses/30/lessons/12931\n",
    "\n",
    "문제 설명 자연수 N이 주어지면, N의 각 자릿수의 합을 구해서 return 하는 solution 함수를 만들어 주세요. 예를들어 N = 123이면 1 + 2 + 3 = 6을 return 하면 됩니다."
   ]
  },
  {
   "cell_type": "code",
   "execution_count": 1,
   "id": "8fc6949d",
   "metadata": {},
   "outputs": [
    {
     "name": "stdout",
     "output_type": "stream",
     "text": [
      "6\n",
      "24\n"
     ]
    }
   ],
   "source": [
    "def solution(n):\n",
    "    string = str(n)\n",
    "    arr = []\n",
    "    \n",
    "    for i in string:\n",
    "        i = int(i)\n",
    "        arr.append(i)\n",
    "\n",
    "        \n",
    "    return sum(arr)\n",
    "\n",
    "print(solution(123))\n",
    "print(solution(987))"
   ]
  }
 ],
 "metadata": {
  "kernelspec": {
   "display_name": "Python 3 (ipykernel)",
   "language": "python",
   "name": "python3"
  },
  "language_info": {
   "codemirror_mode": {
    "name": "ipython",
    "version": 3
   },
   "file_extension": ".py",
   "mimetype": "text/x-python",
   "name": "python",
   "nbconvert_exporter": "python",
   "pygments_lexer": "ipython3",
   "version": "3.10.9"
  }
 },
 "nbformat": 4,
 "nbformat_minor": 5
}
