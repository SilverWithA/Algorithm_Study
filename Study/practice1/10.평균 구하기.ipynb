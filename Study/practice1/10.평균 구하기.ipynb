{
 "cells": [
  {
   "cell_type": "markdown",
   "id": "832538fc",
   "metadata": {},
   "source": [
    "# 10. 평균 구하기\n",
    "https://school.programmers.co.kr/learn/courses/30/lessons/12944?language=python3\n",
    "\n",
    "문제 설명 정수를 담고 있는 배열 arr의 평균값을 return하는 함수, solution을 완성해보세요."
   ]
  },
  {
   "cell_type": "code",
   "execution_count": 1,
   "id": "de3accc0",
   "metadata": {},
   "outputs": [
    {
     "name": "stdout",
     "output_type": "stream",
     "text": [
      "2.5\n",
      "5.0\n"
     ]
    }
   ],
   "source": [
    "def solution(arr):\n",
    "    \n",
    "    \n",
    "    new_arr =list(set(arr))\n",
    "    n = len(new_arr)\n",
    "    \n",
    "    sum = 0\n",
    "    \n",
    "    for i in new_arr:\n",
    "        sum += i\n",
    "    return sum / n\n",
    "\n",
    "\n",
    "print(solution([1,2,3,4]))\n",
    "print(solution([5,5]))"
   ]
  },
  {
   "cell_type": "code",
   "execution_count": 2,
   "id": "43df9ed7",
   "metadata": {},
   "outputs": [
    {
     "name": "stdout",
     "output_type": "stream",
     "text": [
      "2.5\n",
      "5.0\n"
     ]
    }
   ],
   "source": [
    "def solution(arr):\n",
    "\n",
    "    return sum(arr)/len(arr)\n",
    "\n",
    "print(solution([1,2,3,4]))\n",
    "print(solution([5,5]))"
   ]
  }
 ],
 "metadata": {
  "kernelspec": {
   "display_name": "Python 3 (ipykernel)",
   "language": "python",
   "name": "python3"
  },
  "language_info": {
   "codemirror_mode": {
    "name": "ipython",
    "version": 3
   },
   "file_extension": ".py",
   "mimetype": "text/x-python",
   "name": "python",
   "nbconvert_exporter": "python",
   "pygments_lexer": "ipython3",
   "version": "3.10.9"
  }
 },
 "nbformat": 4,
 "nbformat_minor": 5
}
