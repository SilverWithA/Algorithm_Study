{
 "cells": [
  {
   "cell_type": "markdown",
   "id": "cf65b1a9",
   "metadata": {},
   "source": [
    "# 3. 서울에서 김서방 찾기\n",
    "\n",
    "* 문제 설명  \n",
    "String형 배열 seoul의 element중 \"Kim\"의 위치 x를 찾아, \"김서방은 x에 있다\"는 String을 반환하는 함수, solution을 완성하세요. seoul에 \"Kim\"은 오직 한 번만 나타나며 잘못된 값이 입력되는 경우는 없습니다.\n",
    "\n",
    "* 제한 사항  \n",
    "seoul은 길이 1 이상, 1000 이하인 배열입니다.\n",
    "seoul의 원소는 길이 1 이상, 20 이하인 문자열입니다.\n",
    "\"Kim\"은 반드시 seoul 안에 포함되어 있습니다."
   ]
  },
  {
   "cell_type": "code",
   "execution_count": 3,
   "id": "6ade1bee",
   "metadata": {},
   "outputs": [
    {
     "name": "stdout",
     "output_type": "stream",
     "text": [
      "김서방은 1에 있다\n"
     ]
    }
   ],
   "source": [
    "def solution(seoul):\n",
    "    for i in range(len(seoul)):\n",
    "        if seoul[i] == \"Kim\":\n",
    "            print(f\"김서방은 {i}에 있다\")\n",
    "            \n",
    "solution([\"Jane\", \"Kim\"])\n",
    "\n",
    "# 출력은 \"김서방은 1에 있다\" 형태여야해서 맞지 않음"
   ]
  },
  {
   "cell_type": "code",
   "execution_count": 4,
   "id": "7e174cf9",
   "metadata": {},
   "outputs": [
    {
     "data": {
      "text/plain": [
       "'김서방은 1에 있다.'"
      ]
     },
     "execution_count": 4,
     "metadata": {},
     "output_type": "execute_result"
    }
   ],
   "source": [
    "def solution(seoul):\n",
    "    for i in range(len(seoul)):\n",
    "        if seoul[i] == \"Kim\":\n",
    "            answer = i\n",
    "    return (\"김서방은 \" + str(answer) + \"에 있다.\")\n",
    "        \n",
    "solution([\"Jane\",\"Kim\"])"
   ]
  }
 ],
 "metadata": {
  "kernelspec": {
   "display_name": "Python 3 (ipykernel)",
   "language": "python",
   "name": "python3"
  },
  "language_info": {
   "codemirror_mode": {
    "name": "ipython",
    "version": 3
   },
   "file_extension": ".py",
   "mimetype": "text/x-python",
   "name": "python",
   "nbconvert_exporter": "python",
   "pygments_lexer": "ipython3",
   "version": "3.10.9"
  }
 },
 "nbformat": 4,
 "nbformat_minor": 5
}
