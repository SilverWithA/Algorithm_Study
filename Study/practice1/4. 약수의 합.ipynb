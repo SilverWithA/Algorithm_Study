{
 "cells": [
  {
   "cell_type": "markdown",
   "id": "fd1b0bd0",
   "metadata": {},
   "source": [
    "# 4. 약수의 합\n",
    "https://school.programmers.co.kr/learn/courses/30/lessons/12928\n",
    "\n",
    "* 문제 설명  \n",
    "정수 n을 입력받아 n의 약수를 모두 더한 값을 리턴하는 함수, solution을 완성해주세요.\n",
    "\n",
    "* 제한 사항  \n",
    "n은 0 이상 3000이하인 정수입니다."
   ]
  },
  {
   "cell_type": "code",
   "execution_count": 1,
   "id": "7aa962a2",
   "metadata": {},
   "outputs": [
    {
     "name": "stdout",
     "output_type": "stream",
     "text": [
      "28\n",
      "6\n"
     ]
    }
   ],
   "source": [
    "def solution(n):\n",
    "    sum = 0\n",
    "\n",
    "    for i in range(1,n+1):\n",
    "        if n % i == 0:   # 약수이면 \n",
    "            sum += i     # sum값에 더해줌\n",
    "    \n",
    "    \n",
    "    return sum\n",
    "\n",
    "\n",
    "\n",
    "\n",
    "print(solution(12))\n",
    "print(solution(5))"
   ]
  }
 ],
 "metadata": {
  "kernelspec": {
   "display_name": "Python 3 (ipykernel)",
   "language": "python",
   "name": "python3"
  },
  "language_info": {
   "codemirror_mode": {
    "name": "ipython",
    "version": 3
   },
   "file_extension": ".py",
   "mimetype": "text/x-python",
   "name": "python",
   "nbconvert_exporter": "python",
   "pygments_lexer": "ipython3",
   "version": "3.10.9"
  }
 },
 "nbformat": 4,
 "nbformat_minor": 5
}
