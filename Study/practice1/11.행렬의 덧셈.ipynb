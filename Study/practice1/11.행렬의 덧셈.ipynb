{
 "cells": [
  {
   "cell_type": "markdown",
   "id": "4d4a9235",
   "metadata": {},
   "source": [
    "# 11. 행렬의 덧셈\n",
    "https://school.programmers.co.kr/learn/courses/30/lessons/12950\n",
    "\n",
    "문제 설명 행렬의 덧셈은 행과 열의 크기가 같은 두 행렬의 같은 행, 같은 열의 값을 서로 더한 결과가 됩니다. 2개의 행렬 arr1과 arr2를 입력받아, 행렬 덧셈의 결과를 반환하는 함수, solution을 완성해주세요."
   ]
  },
  {
   "cell_type": "code",
   "execution_count": 1,
   "id": "b0a83498",
   "metadata": {},
   "outputs": [
    {
     "name": "stdout",
     "output_type": "stream",
     "text": [
      "[[4, 6], [7, 9]]\n",
      "[[4], [6]]\n"
     ]
    }
   ],
   "source": [
    "# 첫번째 풀이\n",
    "\n",
    "def solution(arr1,arr2):\n",
    "    \n",
    "    n1 = len(arr1)\n",
    "    n2 = len(arr1[0])\n",
    "    new_arr = arr1\n",
    "    \n",
    "    for i in range(n1):\n",
    "        for j in range(n2):\n",
    "            new_arr[i][j] = arr1[i][j] + arr2[i][j]\n",
    "            \n",
    "    return new_arr\n",
    "\n",
    "\n",
    "print(solution([[1,2],[2,3]],[[3,4],[5,6]]))\n",
    "print(solution([[1],[2]],[[3],[4]]))"
   ]
  },
  {
   "cell_type": "code",
   "execution_count": 2,
   "id": "f3540178",
   "metadata": {},
   "outputs": [
    {
     "name": "stdout",
     "output_type": "stream",
     "text": [
      "[[4, 6], [7, 9]]\n",
      "[[4], [6]]\n"
     ]
    }
   ],
   "source": [
    "# 두번째 풀이. zip() 매서드 사용해서 풀기\n",
    "\n",
    "def solution(arr1,arr2):\n",
    "    \n",
    "    answer = [[c+d for c,d in zip(a,b)] for a,b in zip(arr1,arr2)]\n",
    "    \n",
    "    return answer\n",
    "\n",
    "print(solution([[1,2],[2,3]],[[3,4],[5,6]]))\n",
    "print(solution([[1],[2]],[[3],[4]]))"
   ]
  }
 ],
 "metadata": {
  "kernelspec": {
   "display_name": "Python 3 (ipykernel)",
   "language": "python",
   "name": "python3"
  },
  "language_info": {
   "codemirror_mode": {
    "name": "ipython",
    "version": 3
   },
   "file_extension": ".py",
   "mimetype": "text/x-python",
   "name": "python",
   "nbconvert_exporter": "python",
   "pygments_lexer": "ipython3",
   "version": "3.10.9"
  }
 },
 "nbformat": 4,
 "nbformat_minor": 5
}
