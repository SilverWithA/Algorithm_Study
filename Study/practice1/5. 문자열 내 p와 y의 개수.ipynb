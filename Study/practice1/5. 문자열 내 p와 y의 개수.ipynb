{
 "cells": [
  {
   "cell_type": "markdown",
   "id": "98eadefc",
   "metadata": {},
   "source": [
    "# 5. 문자열 내 p와 y의 개수\n",
    "https://school.programmers.co.kr/learn/courses/30/lessons/12916\n",
    "\n",
    "* 문제 설명  \n",
    "대문자와 소문자가 섞여있는 문자열 s가 주어집니다. s에 'p'의 개수와 'y'의 개수를 비교해 같으면 True, 다르면 False를 return 하는 solution를 완성하세요. 'p', 'y' 모두 하나도 없는 경우는 항상 True를 리턴합니다. 단, 개수를 비교할 때 대문자와 소문자는 구별하지 않습니다.\n",
    "\n",
    "예를 들어 s가 \"pPoooyY\"면 true를 return하고 \"Pyy\"라면 false를 return합니다."
   ]
  },
  {
   "cell_type": "code",
   "execution_count": 2,
   "id": "13bbe3c5",
   "metadata": {},
   "outputs": [
    {
     "name": "stdout",
     "output_type": "stream",
     "text": [
      "True\n",
      "False\n"
     ]
    }
   ],
   "source": [
    "def solution(s):\n",
    "    \n",
    "    t = s.lower()\n",
    "    if t.count(\"p\") == t.count(\"y\"):\n",
    "        return True\n",
    "    else:\n",
    "        return False\n",
    "    \n",
    "print(solution(\"pPoooyY\"))\n",
    "print(solution(\"Pyy\"))"
   ]
  },
  {
   "cell_type": "markdown",
   "id": "7cf05510",
   "metadata": {},
   "source": [
    "lower() 혹은 upper()을 사용하여 비교할 문자열을 소문자 혹은 대문자로 통일\n",
    "\n",
    "if문을 활용해 문자열 내 \"p\"와 \"y\"값이 동일하면 return True 아니면 False"
   ]
  }
 ],
 "metadata": {
  "kernelspec": {
   "display_name": "Python 3 (ipykernel)",
   "language": "python",
   "name": "python3"
  },
  "language_info": {
   "codemirror_mode": {
    "name": "ipython",
    "version": 3
   },
   "file_extension": ".py",
   "mimetype": "text/x-python",
   "name": "python",
   "nbconvert_exporter": "python",
   "pygments_lexer": "ipython3",
   "version": "3.10.9"
  }
 },
 "nbformat": 4,
 "nbformat_minor": 5
}
