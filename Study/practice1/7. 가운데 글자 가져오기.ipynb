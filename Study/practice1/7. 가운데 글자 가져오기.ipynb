{
 "cells": [
  {
   "cell_type": "markdown",
   "id": "7e7051fb",
   "metadata": {},
   "source": [
    "# 7. 가운데 글자 가져오기\n",
    "https://school.programmers.co.kr/learn/courses/30/lessons/12903\n",
    "\n",
    "문제 설명 단어 s의 가운데 글자를 반환하는 함수, solution을 만들어 보세요. 단어의 길이가 짝수라면 가운데 두글자를 반환하면 됩니다.\n",
    "\n",
    "재한사항 s는 길이가 1 이상, 100이하인 스트링입니다."
   ]
  },
  {
   "cell_type": "code",
   "execution_count": 1,
   "id": "15140a4c",
   "metadata": {},
   "outputs": [
    {
     "name": "stdout",
     "output_type": "stream",
     "text": [
      "c\n",
      "we\n"
     ]
    }
   ],
   "source": [
    "def solution(str):\n",
    "    \n",
    "    n = len(str)\n",
    "    mid = n //2\n",
    "    \n",
    "    # 문자열이 짝수일때\n",
    "    if n % 2 == 0:\n",
    "        return str[mid-1:mid+1]\n",
    "    \n",
    "    \n",
    "    # 문자열이 홀수일때 \n",
    "    else:\n",
    "        return str[mid]\n",
    "    \n",
    "print(solution(\"abcde\"))\n",
    "print(solution(\"qwer\"))"
   ]
  },
  {
   "cell_type": "markdown",
   "id": "d74bbcea",
   "metadata": {},
   "source": [
    "가운데 글자 -홀짝을 기준으로 조건을 나누어 return한다\n",
    "\n",
    "주의 str[mid-1:mid+1]로 해야 두개의문자열이 잘려서 출력한다"
   ]
  }
 ],
 "metadata": {
  "kernelspec": {
   "display_name": "Python 3 (ipykernel)",
   "language": "python",
   "name": "python3"
  },
  "language_info": {
   "codemirror_mode": {
    "name": "ipython",
    "version": 3
   },
   "file_extension": ".py",
   "mimetype": "text/x-python",
   "name": "python",
   "nbconvert_exporter": "python",
   "pygments_lexer": "ipython3",
   "version": "3.10.9"
  }
 },
 "nbformat": 4,
 "nbformat_minor": 5
}
