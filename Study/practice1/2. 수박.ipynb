{
 "cells": [
  {
   "cell_type": "markdown",
   "id": "e09c7842",
   "metadata": {},
   "source": [
    "# 2. 수박수박수박수박수박수?\n",
    "\n",
    "https://school.programmers.co.kr/learn/courses/30/lessons/12922\n",
    "\n",
    "\n",
    "* 문제 설명  \n",
    "길이가 n이고, \"수박수박수박수....\"와 같은 패턴을 유지하는 문자열을 리턴하는 함수, solution을 완성하세요. 예를들어 n이 4이면 \"수박수박\"을 리턴하고 3이라면 \"수박수\"를 리턴하면 됩니다.\n",
    "\n",
    "* 제한 조건  \n",
    "n은 길이 10,000이하인 자연수입니다."
   ]
  },
  {
   "cell_type": "code",
   "execution_count": 2,
   "id": "870f93c0",
   "metadata": {},
   "outputs": [
    {
     "name": "stdout",
     "output_type": "stream",
     "text": [
      "수박수\n",
      "수박수박\n"
     ]
    }
   ],
   "source": [
    "def solution(n):\n",
    "    \n",
    "    # 수박 이라는 글자가 입력된 n을 2로 나눴을때의 몫만큼 반복하고\n",
    "    # n이 홀수이면 그 값에 '수'를 2로 나눴을 때의 나머지만큼 덧붙인다\n",
    "    \n",
    "    \n",
    "    return '수박'*(n//2) + '수' * (n % 2)\n",
    "\n",
    "print(solution(3))\n",
    "print(solution(4))"
   ]
  }
 ],
 "metadata": {
  "kernelspec": {
   "display_name": "Python 3 (ipykernel)",
   "language": "python",
   "name": "python3"
  },
  "language_info": {
   "codemirror_mode": {
    "name": "ipython",
    "version": 3
   },
   "file_extension": ".py",
   "mimetype": "text/x-python",
   "name": "python",
   "nbconvert_exporter": "python",
   "pygments_lexer": "ipython3",
   "version": "3.10.9"
  }
 },
 "nbformat": 4,
 "nbformat_minor": 5
}
