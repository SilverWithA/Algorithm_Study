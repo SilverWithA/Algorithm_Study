{
 "cells": [
  {
   "cell_type": "markdown",
   "id": "5252efcf",
   "metadata": {},
   "source": [
    "# 9. 직사각형 별찍기\n",
    "https://school.programmers.co.kr/learn/courses/30/lessons/12969\n",
    "\n",
    "문제 설명\n",
    "\n",
    "이 문제에는 표준 입력으로 두 개의 정수 n과 m이 주어집니다.\n",
    "\n",
    "별(*) 문자를 이용해 가로의 길이가 n, 세로의 길이가 m인 직사각형 형태를 출력해보세요."
   ]
  },
  {
   "cell_type": "code",
   "execution_count": 1,
   "id": "ab4854e7",
   "metadata": {},
   "outputs": [
    {
     "name": "stdout",
     "output_type": "stream",
     "text": [
      "5 3\n",
      "*****\n",
      "*****\n",
      "*****\n"
     ]
    }
   ],
   "source": [
    "# 표준 입력. 띄어쓰기를 기준으로 a와 b를 입력받아 변수에 할당\n",
    "\n",
    "\n",
    "# map(함수, iterable)\n",
    "a, b = map(int, input().strip().split(' '))\n",
    "\n",
    "for _ in range(b):\n",
    "    print(a *'*')\n",
    "    \n",
    "# for _ in b: 만하면 int는 not iterable이라고 에러 발생"
   ]
  }
 ],
 "metadata": {
  "kernelspec": {
   "display_name": "Python 3 (ipykernel)",
   "language": "python",
   "name": "python3"
  },
  "language_info": {
   "codemirror_mode": {
    "name": "ipython",
    "version": 3
   },
   "file_extension": ".py",
   "mimetype": "text/x-python",
   "name": "python",
   "nbconvert_exporter": "python",
   "pygments_lexer": "ipython3",
   "version": "3.10.9"
  }
 },
 "nbformat": 4,
 "nbformat_minor": 5
}
