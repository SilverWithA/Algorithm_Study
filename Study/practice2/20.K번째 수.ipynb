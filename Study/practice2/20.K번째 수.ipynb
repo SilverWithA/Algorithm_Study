{
 "cells": [
  {
   "cell_type": "markdown",
   "id": "43c12cee",
   "metadata": {},
   "source": [
    "# K번째수\n",
    "\n",
    "https://school.programmers.co.kr/learn/courses/30/lessons/42748\n",
    "\n",
    "[문제설명]\n",
    "\n",
    "배열 array의 i번째 숫자부터 j번째 숫자까지 자르고 정렬했을 때, k번째에 있는 수를 구하려 합니다.\n",
    "\n",
    "예를 들어 array가 [1, 5, 2, 6, 3, 7, 4], i = 2, j = 5, k = 3이라면\n",
    "\n",
    "array의 2번째부터 5번째까지 자르면 [5, 2, 6, 3]입니다.\n",
    "1에서 나온 배열을 정렬하면 [2, 3, 5, 6]입니다.\n",
    "2에서 나온 배열의 3번째 숫자는 5입니다.\n",
    "배열 array, [i, j, k]를 원소로 가진 2차원 배열 commands가 매개변수로 주어질 때, commands의 모든 원소에 대해 앞서 설명한 연산을 적용했을 때 나온 결과를 배열에 담아 return 하도록 solution 함수를 작성해주세요."
   ]
  },
  {
   "cell_type": "code",
   "execution_count": null,
   "id": "906e4883",
   "metadata": {},
   "outputs": [],
   "source": [
    "def solution(array, commands):\n",
    "    \n",
    "    answer = []\n",
    "    \n",
    "    for command in commands:\n",
    "\n",
    "        i,j,k = command[0], command[1],command[2]\n",
    "     \n",
    "        \n",
    "        print(f\"{i}번째부터 {j}번째까지 자른 후 {k}번째 원소 반환\")\n",
    "        \n",
    "        new_arr = array[i-1:j]  # 2번째부터 5번째까지 자름\n",
    "        new_arr.sort() # 정렬\n",
    "        print(\"정렬 후: \",new_arr)\n",
    "        result = new_arr[k-1] # 세번째 숫자\n",
    "        answer.append(result)\n",
    "    \n",
    "    return answer\n",
    "\n",
    "\n",
    "\n",
    "solution([1, 5, 2, 6, 3, 7, 4],[[2, 5, 3], [4, 4, 1], [1, 7, 3]])"
   ]
  },
  {
   "cell_type": "code",
   "execution_count": null,
   "id": "a2e36fc8",
   "metadata": {},
   "outputs": [],
   "source": [
    "# (+) \n",
    "# i,j,k = command로 해도됨\n",
    "\n",
    "commands = [[2, 5, 3], [4, 4, 1], [1, 7, 3]]\n",
    "for command in commands:\n",
    "    i,j,k = command\n",
    "    print(i,j,k)"
   ]
  },
  {
   "cell_type": "code",
   "execution_count": null,
   "id": "673b27a0",
   "metadata": {},
   "outputs": [],
   "source": [
    "# 코드 짧게 줄이기\n",
    "\n",
    "# answer.append(list(sorted(array[i-1:j]))[k-1])"
   ]
  }
 ],
 "metadata": {
  "kernelspec": {
   "display_name": "Python 3 (ipykernel)",
   "language": "python",
   "name": "python3"
  },
  "language_info": {
   "codemirror_mode": {
    "name": "ipython",
    "version": 3
   },
   "file_extension": ".py",
   "mimetype": "text/x-python",
   "name": "python",
   "nbconvert_exporter": "python",
   "pygments_lexer": "ipython3",
   "version": "3.10.9"
  }
 },
 "nbformat": 4,
 "nbformat_minor": 5
}
