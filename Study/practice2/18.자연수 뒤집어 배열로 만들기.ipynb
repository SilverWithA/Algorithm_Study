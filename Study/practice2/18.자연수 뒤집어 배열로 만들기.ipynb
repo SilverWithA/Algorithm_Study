{
 "cells": [
  {
   "cell_type": "markdown",
   "id": "9cc8a81c",
   "metadata": {},
   "source": [
    "# 자연수 뒤집어 배열로 만들기\n",
    "\n",
    "\n",
    "자연수 n을 뒤집어 각 자리 숫자를 원소로 가지는 배열 형태로 리턴해주세요. 예를들어 n이 12345이면 [5,4,3,2,1]을 리턴합니다.\n"
   ]
  },
  {
   "cell_type": "code",
   "execution_count": 47,
   "id": "bf4d5ab7",
   "metadata": {},
   "outputs": [
    {
     "name": "stdout",
     "output_type": "stream",
     "text": [
      "['1', '2', '3', '4', '5']\n",
      "['5', '4', '3', '2', '1']\n"
     ]
    },
    {
     "data": {
      "text/plain": [
       "[5, 4, 3, 2, 1]"
      ]
     },
     "execution_count": 47,
     "metadata": {},
     "output_type": "execute_result"
    }
   ],
   "source": [
    "# 리스트로 할당 # 숫자형은 not iterable이리니까  str형으로 한번 변환\n",
    "\n",
    "\n",
    "def solution(n):\n",
    "    \n",
    "    \n",
    "    n = list(str(n))\n",
    "    print(n)\n",
    "    n.reverse()   # 리스트 역순 배열 \n",
    "    print(n)\n",
    "    n = list(map(int,n))  # 다시 숫자형으로 변환\n",
    "    return n\n",
    "\n",
    "\n",
    "solution(12345)"
   ]
  },
  {
   "cell_type": "code",
   "execution_count": null,
   "id": "a31f5a4e",
   "metadata": {},
   "outputs": [],
   "source": []
  }
 ],
 "metadata": {
  "kernelspec": {
   "display_name": "Python 3 (ipykernel)",
   "language": "python",
   "name": "python3"
  },
  "language_info": {
   "codemirror_mode": {
    "name": "ipython",
    "version": 3
   },
   "file_extension": ".py",
   "mimetype": "text/x-python",
   "name": "python",
   "nbconvert_exporter": "python",
   "pygments_lexer": "ipython3",
   "version": "3.10.9"
  }
 },
 "nbformat": 4,
 "nbformat_minor": 5
}
