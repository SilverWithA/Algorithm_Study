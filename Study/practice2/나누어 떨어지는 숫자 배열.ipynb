{
 "cells": [
  {
   "cell_type": "markdown",
   "id": "5f1fdb31",
   "metadata": {},
   "source": [
    "# 나누어 떨어지는 숫자 배열\n",
    "\n",
    "\n",
    "https://school.programmers.co.kr/learn/courses/30/lessons/12910\n",
    "\n",
    "문제 설명\n",
    "array의 각 element 중 divisor로 나누어 떨어지는 값을 오름차순으로 정렬한 배열을 반환하는 함수, solution을 작성해주세요.\n",
    "divisor로 나누어 떨어지는 element가 하나도 없다면 배열에 -1을 담아 반환하세요."
   ]
  },
  {
   "cell_type": "code",
   "execution_count": 33,
   "id": "d34ed3ec",
   "metadata": {},
   "outputs": [
    {
     "name": "stdout",
     "output_type": "stream",
     "text": [
      "None\n"
     ]
    }
   ],
   "source": [
    "# 왜 None이 나오지?\n",
    "\n",
    "\n",
    "def solution(arr, divisor):\n",
    "    \n",
    "    answer = []\n",
    "    \n",
    "    for i in arr:\n",
    "        if i % divisor == 0:\n",
    "            answer.append(i)\n",
    "\n",
    "    if len(answer) == 0:\n",
    "        answer.append(-1)\n",
    "        print(answer)\n",
    "    else:\n",
    "        print(answer.sort())\n",
    "    \n",
    "\n",
    "solution([10,5,1,13], 5)"
   ]
  },
  {
   "cell_type": "code",
   "execution_count": 32,
   "id": "b8070cfc",
   "metadata": {},
   "outputs": [
    {
     "data": {
      "text/plain": [
       "[5, 10]"
      ]
     },
     "execution_count": 32,
     "metadata": {},
     "output_type": "execute_result"
    }
   ],
   "source": [
    "# 해결 코드\n",
    "\n",
    "def solution(arr, divisor):\n",
    "    \n",
    "    answer = []\n",
    "    \n",
    "    for i in arr:\n",
    "        if i % divisor == 0:\n",
    "            answer.append(i)\n",
    "        answer.sort()   # 정렬 코드 순서를 바꿔줌\n",
    "\n",
    "    if len(answer) == 0: \n",
    "        answer.append(-1)\n",
    "\n",
    "    return answer\n",
    "\n",
    "\n",
    "solution([10,5,1,13], 5)"
   ]
  }
 ],
 "metadata": {
  "kernelspec": {
   "display_name": "Python 3 (ipykernel)",
   "language": "python",
   "name": "python3"
  },
  "language_info": {
   "codemirror_mode": {
    "name": "ipython",
    "version": 3
   },
   "file_extension": ".py",
   "mimetype": "text/x-python",
   "name": "python",
   "nbconvert_exporter": "python",
   "pygments_lexer": "ipython3",
   "version": "3.10.9"
  }
 },
 "nbformat": 4,
 "nbformat_minor": 5
}
