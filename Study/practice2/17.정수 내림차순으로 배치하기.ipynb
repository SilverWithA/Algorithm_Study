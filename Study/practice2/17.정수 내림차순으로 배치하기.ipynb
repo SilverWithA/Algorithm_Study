{
 "cells": [
  {
   "cell_type": "markdown",
   "id": "84652ec2",
   "metadata": {},
   "source": [
    "# 정수 내림차순으로 배치하기\n",
    "\n",
    "\n",
    "\n",
    "[문제설명] \n",
    "\n",
    "함수 solution은 정수 n을 매개변수로 입력받습니다. n의 각 자릿수를 큰것부터 작은 순으로 정렬한 새로운 정수를 리턴해주세요. 예를들어 n이 118372면 873211을 리턴하면 됩니다."
   ]
  },
  {
   "cell_type": "code",
   "execution_count": null,
   "id": "829efe2e",
   "metadata": {},
   "outputs": [],
   "source": [
    "# sort(reverse =True)\n",
    "# map(int,n)을 사용해보려고 했는데 숫자는 not iterable\n",
    "\n",
    "def solution(n):\n",
    "\n",
    "    a = list(str(n))   # 숫자는 not iterable\n",
    "    a.sort(reverse= True)   # 내림차순 정렬 옵션 reverse = Ture\n",
    "    return int(\"\".join(a))   # 리스트 하나의 열로 붙이기"
   ]
  }
 ],
 "metadata": {
  "kernelspec": {
   "display_name": "Python 3 (ipykernel)",
   "language": "python",
   "name": "python3"
  },
  "language_info": {
   "codemirror_mode": {
    "name": "ipython",
    "version": 3
   },
   "file_extension": ".py",
   "mimetype": "text/x-python",
   "name": "python",
   "nbconvert_exporter": "python",
   "pygments_lexer": "ipython3",
   "version": "3.10.9"
  }
 },
 "nbformat": 4,
 "nbformat_minor": 5
}
