{
 "cells": [
  {
   "cell_type": "markdown",
   "id": "cc6a52c0",
   "metadata": {},
   "source": [
    "# 29번: 시저암호\n",
    "\n",
    "### 문제 설명\n",
    "어떤 문장의 각 알파벳을 일정한 거리만큼 밀어서 다른 알파벳으로 바꾸는 암호화 방식을 시저 암호라고 합니다. 예를 들어 \"AB\"는 1만큼 밀면 \"BC\"가 되고, 3만큼 밀면 \"DE\"가 됩니다. \"z\"는 1만큼 밀면 \"a\"가 됩니다. 문자열 s와 거리 n을 입력받아 s를 n만큼 민 암호문을 만드는 함수, solution을 완성해 보세요.\n",
    "\n",
    "### 제한 조건\n",
    "공백은 아무리 밀어도 공백입니다.  \n",
    "s는 알파벳 소문자, 대문자, 공백으로만 이루어져 있습니다.  \n",
    "s의 길이는 8000이하입니다.  \n",
    "n은 1 이상, 25이하인 자연수입니다.   \n"
   ]
  },
  {
   "cell_type": "code",
   "execution_count": 31,
   "id": "140ded30",
   "metadata": {},
   "outputs": [],
   "source": [
    "from string import ascii_lowercase\n",
    "from string import ascii_uppercase\n",
    "def solution(s, n):\n",
    "\n",
    "    # 소문자와 대문자 알파벳 리스트 생성\n",
    "    low_alphabet = list(ascii_lowercase)\n",
    "    upp_alphabet = list(ascii_uppercase)\n",
    "\n",
    "    # a문자열 to 리스트 for 요소 바꾸기\n",
    "    l = list(s)\n",
    "\n",
    "    for i in range(len(l)):\n",
    "        for j in range(len(low_alphabet)):\n",
    "            if l[i] == low_alphabet[j]:\n",
    "                l[i] = low_alphabet[(j+n) % 26]\n",
    "                break\n",
    "\n",
    "            if l[i] == upp_alphabet[j]:\n",
    "                l[i] = upp_alphabet[(j+n) % 26]\n",
    "                break\n",
    "\n",
    "    str = \"\".join(l)\n",
    "    return str"
   ]
  },
  {
   "cell_type": "code",
   "execution_count": 32,
   "id": "fcc59df5",
   "metadata": {
    "scrolled": false
   },
   "outputs": [
    {
     "name": "stdout",
     "output_type": "stream",
     "text": [
      "문자열 리스트:  ['A', 'B']\n",
      "A  to  b\n",
      "['B', 'B']\n",
      "B  to  c\n",
      "['B', 'C']\n"
     ]
    },
    {
     "data": {
      "text/plain": [
       "'BC'"
      ]
     },
     "execution_count": 32,
     "metadata": {},
     "output_type": "execute_result"
    }
   ],
   "source": [
    "solution(\"AB\",1)"
   ]
  },
  {
   "cell_type": "markdown",
   "id": "119aab10",
   "metadata": {},
   "source": [
    "## [풀이 시도] \n",
    "\n",
    "\n",
    "### 1. 문자열 바꾸기\n",
    "* str.replace() 시도\n",
    "* indexing을 위해서는 list로 바꾸는 게 효율적\n",
    "\n",
    "### 2. 알파벳 리스트 불러오기\n",
    "* 사용 방법: 알파벳 문자를 리스트로 불러오기\n",
    "-> from string import ascii_lowercase, ascii_uppercase 사용\n",
    "\n",
    "[다른 방법]\n",
    "* 아스키코드로 변환하는 ord() 함수\n",
    "(+)  isupper(), islower() 함수"
   ]
  },
  {
   "cell_type": "code",
   "execution_count": null,
   "id": "56dfa035",
   "metadata": {},
   "outputs": [],
   "source": [
    "def caesar(s, n):\n",
    "    s = list(s)\n",
    "    for i in range(len(s)):\n",
    "        if s[i].isupper():\n",
    "            s[i]=chr((ord(s[i])-ord('A')+ n)%26+ord('A'))\n",
    "        elif s[i].islower():\n",
    "            s[i]=chr((ord(s[i])-ord('a')+ n)%26+ord('a'))\n",
    "\n",
    "    return \"\".join(s)"
   ]
  }
 ],
 "metadata": {
  "kernelspec": {
   "display_name": "Python 3 (ipykernel)",
   "language": "python",
   "name": "python3"
  },
  "language_info": {
   "codemirror_mode": {
    "name": "ipython",
    "version": 3
   },
   "file_extension": ".py",
   "mimetype": "text/x-python",
   "name": "python",
   "nbconvert_exporter": "python",
   "pygments_lexer": "ipython3",
   "version": "3.10.9"
  }
 },
 "nbformat": 4,
 "nbformat_minor": 5
}
