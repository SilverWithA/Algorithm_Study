{
 "cells": [
  {
   "cell_type": "markdown",
   "id": "e8bdf2ee",
   "metadata": {},
   "source": [
    "# [ 프로그래머스 알고리즘 맛보기문제 ]"
   ]
  },
  {
   "cell_type": "markdown",
   "id": "05d31437",
   "metadata": {},
   "source": [
    "핸드폰 번호 가리기\n",
    "https://programmers.co.kr/learn/courses/30/lessons/12948\n",
    "\n",
    "[문제설명]\n",
    "\n",
    "프로그래머스 모바일은 개인정보 보호를 위해 고지서를 보낼 때 고객들의 전화번호의 일부를 가립니다. 전화번호가 문자열 phone_number로 주어졌을 때, 전화번호의 뒷 4자리를 제외한 나머지 숫자를 전부 *으로 가린 문자열을 리턴하는 함수, solution을 완성해주세요.\n"
   ]
  },
  {
   "cell_type": "code",
   "execution_count": 1,
   "id": "5f2af2a5",
   "metadata": {},
   "outputs": [
    {
     "data": {
      "text/plain": [
       "'*******4444'"
      ]
     },
     "execution_count": 1,
     "metadata": {},
     "output_type": "execute_result"
    }
   ],
   "source": [
    "# 굳이 list형으로 바꿔 슬리이싱할 필요 x\n",
    "# 문자열 변수도 슬라이싱 가능\n",
    "\n",
    "\n",
    "def solution(phone_number):\n",
    "\n",
    "    \n",
    "    rest = phone_number[-4:] # 뒤에 4개\n",
    "    return ((len(phone_number)-4) * '*'+rest)\n",
    "\n",
    "\n",
    "solution(\"01033334444\")"
   ]
  }
 ],
 "metadata": {
  "kernelspec": {
   "display_name": "Python 3 (ipykernel)",
   "language": "python",
   "name": "python3"
  },
  "language_info": {
   "codemirror_mode": {
    "name": "ipython",
    "version": 3
   },
   "file_extension": ".py",
   "mimetype": "text/x-python",
   "name": "python",
   "nbconvert_exporter": "python",
   "pygments_lexer": "ipython3",
   "version": "3.10.9"
  }
 },
 "nbformat": 4,
 "nbformat_minor": 5
}
