{
 "cells": [
  {
   "cell_type": "markdown",
   "id": "4158c470",
   "metadata": {},
   "source": [
    "# 28. 체육복\n",
     " https://school.programmers.co.kr/learn/courses/30/lessons/42862 ",
    "\n",
    "* 문제 설명  \n",
    "점심시간에 도둑이 들어, 일부 학생이 체육복을 도난당했습니다. 다행히 여벌 체육복이 있는 학생이 이들에게 체육복을 빌려주려 합니다. 학생들의 번호는 체격 순으로 매겨져 있어, 바로 앞번호의 학생이나 바로 뒷번호의 학생에게만 체육복을 빌려줄 수 있습니다. 예를 들어, 4번 학생은 3번 학생이나 5번 학생에게만 체육복을 빌려줄 수 있습니다. 체육복이 없으면 수업을 들을 수 없기 때문에 체육복을 적절히 빌려 최대한 많은 학생이 체육수업을 들어야 합니다.\n",
    "\n",
    "전체 학생의 수 n, 체육복을 도난당한 학생들의 번호가 담긴 배열 lost, 여벌의 체육복을 가져온 학생들의 번호가 담긴 배열 reserve가 매개변수로 주어질 때, 체육수업을 들을 수 있는 학생의 최댓값을 return 하도록 solution 함수를 작성해주세요."
   ]
  },
  {
   "cell_type": "markdown",
   "id": "d169fc05",
   "metadata": {},
   "source": [
    "### 첫번째 시도\n",
    "\n",
    "오답 → 이유: lost와 reserve의 교집합 원소를 제거해주지 않음. 정확도(80/100)"
   ]
  },
  {
   "cell_type": "code",
   "execution_count": 4,
   "id": "5c6d7a55",
   "metadata": {},
   "outputs": [
    {
     "data": {
      "text/plain": [
       "5"
      ]
     },
     "execution_count": 4,
     "metadata": {},
     "output_type": "execute_result"
    }
   ],
   "source": [
    "def solution(n, lost, reserve):\n",
    "    \n",
    "# lost가 빌릴 수 있는지 결정의 우선순위 -> -1인 번 학생에게 먼저 빌리기\n",
    "\n",
    "    lost_num = 0\n",
    "    for i in range(len(lost)):\n",
    "        \n",
    "        if lost[i] - 1 in reserve:\n",
    "            reserve.remove(lost[i]-1)\n",
    "            \n",
    "        elif lost[i] + 1 in reserve:\n",
    "            reserve.remove(lost[i]+1)\n",
    "            \n",
    "        else:\n",
    "            lost_num += 1\n",
    "        \n",
    "    return (n - lost_num)\n",
    "            \n",
    "solution(5,[2, 4],[1, 3, 5])"
   ]
  },
  {
   "cell_type": "markdown",
   "id": "e261287c",
   "metadata": {},
   "source": [
    "### 올바른 정답\n",
    "→ set을 이용해 중복하는 교집합 원소 삭제"
   ]
  },
  {
   "cell_type": "code",
   "execution_count": 5,
   "id": "bd56adc1",
   "metadata": {},
   "outputs": [
    {
     "data": {
      "text/plain": [
       "5"
      ]
     },
     "execution_count": 5,
     "metadata": {},
     "output_type": "execute_result"
    }
   ],
   "source": [
    "def solution(n, lost, reserve):\n",
    "    \n",
    "# lost가 빌릴 수 있는지 결정ㅈ의 우선순위 -> -1인 번 학생에게 먼저 빌리기\n",
    "    lost_n = list(set(lost) - set(reserve))\n",
    "    reserve_n = list(set(reserve) - set(lost))\n",
    "    lost_num = 0\n",
    "    \n",
    "    for i in range(len(lost_n)):\n",
    "        \n",
    "        if lost_n[i] - 1 in reserve_n:\n",
    "            reserve_n.remove(lost_n[i]-1)\n",
    "        elif lost_n[i] + 1 in reserve_n:\n",
    "            reserve_n.remove(lost_n[i]+1)\n",
    "        else:\n",
    "            lost_num += 1\n",
    "    return (n - lost_num)\n",
    "\n",
    "solution(5,[2, 4],[1, 3, 5])"
   ]
  }
 ],
 "metadata": {
  "kernelspec": {
   "display_name": "Python 3 (ipykernel)",
   "language": "python",
   "name": "python3"
  },
  "language_info": {
   "codemirror_mode": {
    "name": "ipython",
    "version": 3
   },
   "file_extension": ".py",
   "mimetype": "text/x-python",
   "name": "python",
   "nbconvert_exporter": "python",
   "pygments_lexer": "ipython3",
   "version": "3.10.9"
  }
 },
 "nbformat": 4,
 "nbformat_minor": 5
}
