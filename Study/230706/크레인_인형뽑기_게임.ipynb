{
  "nbformat": 4,
  "nbformat_minor": 0,
  "metadata": {
    "colab": {
      "provenance": []
    },
    "kernelspec": {
      "name": "python3",
      "display_name": "Python 3"
    },
    "language_info": {
      "name": "python"
    }
  },
  "cells": [
    {
      "cell_type": "markdown",
      "source": [
        "# 1. 크레인 인형뽑기 게임\n",
        "\n",
        "https://school.programmers.co.kr/learn/courses/30/lessons/64061"
      ],
      "metadata": {
        "id": "YzW6_K5UOa9d"
      }
    },
    {
      "cell_type": "code",
      "execution_count": null,
      "metadata": {
        "colab": {
          "base_uri": "https://localhost:8080/"
        },
        "id": "xk4g1cj9OVuP",
        "outputId": "cf0aa11a-596b-4437-d810-c6dd90ead0fd"
      },
      "outputs": [
        {
          "output_type": "stream",
          "name": "stdout",
          "text": [
            "크레인 위치:  0\n",
            "board[0]:  [0, 0, 0, 0, 0]\n",
            "0번째 크레인의 마지막 요소:  0\n",
            "busket[]:  []\n",
            "크레인 위치:  4\n",
            "board[4]:  [3, 5, 1, 3, 1]\n",
            "4번째 크레인의 마지막 요소:  1\n",
            "busket[]:  [1]\n",
            "busket[]:  [1]\n",
            "크레인 위치:  2\n",
            "board[2]:  [0, 2, 5, 0, 1]\n",
            "2번째 크레인의 마지막 요소:  1\n",
            "busket[]:  [1, 1]\n",
            "busket[]:  []\n",
            "크레인 위치:  4\n",
            "board[4]:  [3, 5, 1, 3]\n",
            "4번째 크레인의 마지막 요소:  3\n",
            "busket[]:  [3]\n",
            "busket[]:  [3]\n",
            "크레인 위치:  0\n",
            "board[0]:  [0, 0, 0, 0]\n",
            "0번째 크레인의 마지막 요소:  0\n",
            "busket[]:  [3]\n",
            "크레인 위치:  1\n",
            "board[1]:  [0, 0, 1, 0, 3]\n",
            "1번째 크레인의 마지막 요소:  3\n",
            "busket[]:  [3, 3]\n",
            "busket[]:  []\n",
            "크레인 위치:  0\n",
            "board[0]:  [0, 0, 0]\n",
            "0번째 크레인의 마지막 요소:  0\n",
            "busket[]:  []\n",
            "크레인 위치:  3\n",
            "board[3]:  [4, 2, 4, 4, 2]\n",
            "3번째 크레인의 마지막 요소:  2\n",
            "busket[]:  [2]\n",
            "busket[]:  [2]\n",
            "4\n"
          ]
        }
      ],
      "source": [
        "\n",
        "board = [[0,0,0,0,0],[0,0,1,0,3],[0,2,5,0,1],[4,2,4,4,2],[3,5,1,3,1]]\n",
        "moves = [1,5,3,5,1,2,1,4]\n",
        "busket = []\n",
        "result = 0\n",
        "\n",
        "n = len(moves)\n",
        "\n",
        "\n",
        "\n",
        "for i in range(n):\n",
        "    print(\"크레인 위치: \", moves[i]-1 )\n",
        "    print(f\"board[{moves[i]-1}]: \",board[moves[i]-1])\n",
        "    print(f\"{moves[i]-1}번째 크레인의 마지막 요소: \", board[moves[i]-1][-1])\n",
        "\n",
        "    if board[moves[i]-1][-1] != 0:\n",
        "      busket.append(board[moves[i]-1][-1])   # 마지막 요소 busket에 추가\n",
        "      print(\"busket[]: \",busket)\n",
        "\n",
        "    board[moves[i]-1].pop()                 # 마지막 요소 삭제\n",
        "\n",
        "\n",
        "    # busket의 연속 요소가 중복이면 삭제\n",
        "    while len(busket) >= 2:\n",
        "      if busket[-1] == busket[-2]:\n",
        "          busket.pop()\n",
        "          busket.pop()\n",
        "          result += 2\n",
        "    print(\"busket[]: \",busket)\n",
        "\n",
        "print(result)"
      ]
    },
    {
      "cell_type": "code",
      "source": [
        "def solution(board, moves):\n",
        "    busket = [0]\n",
        "    result = 0\n",
        "    n = len(moves)\n",
        "\n",
        "    for i in range(n):\n",
        "      print(\"------------------------------------\")\n",
        "      print(\"크레인 위치: \", moves[i] )\n",
        "      print(f\"요소를 꺼낼 board[{moves[i]-1}]: \",board[moves[i]-1])\n",
        "      print(f\"{moves[i]}번째 board의 마지막 요소: \", board[moves[i]-1][-1])\n",
        "\n",
        "      # 마지막 요소가 0이 아닐때\n",
        "      if board[moves[i]-1][-1] != 0:\n",
        "\n",
        "        # busket의 마지막 요소와 꺼낸 요소가 같다면\n",
        "        if busket[-1] == board[moves[i]-1][-1]:\n",
        "                result += 2\n",
        "                busket.pop()\n",
        "                print(\"중복 요소를 제거한 busket: \", busket)\n",
        "\n",
        "      # busket의 맞미가 요소와 꺼낸 요소가 다르다면\n",
        "        else:\n",
        "          busket.append(board[moves[i]-1][-1])   # 마지막 요소 busket에 추가\n",
        "          print(\"busket: \",busket)\n",
        "\n",
        "      board[moves[i]-1].pop()                # board에서 마지막 요소 삭제\n",
        "\n",
        "\n",
        "\n",
        "\n",
        "    return result"
      ],
      "metadata": {
        "id": "0SzIKBtyShoY"
      },
      "execution_count": null,
      "outputs": []
    },
    {
      "cell_type": "code",
      "source": [
        "solution([[0,0,0,0,0],[0,0,1,0,3],[0,2,5,0,1],[4,2,4,4,2],[3,5,1,3,1]], [1,5,3,5,1,2,1,4])"
      ],
      "metadata": {
        "colab": {
          "base_uri": "https://localhost:8080/"
        },
        "id": "MwtQfTbWUVxW",
        "outputId": "cd0ea40d-47d5-45ff-f408-c5028fb49874"
      },
      "execution_count": null,
      "outputs": [
        {
          "output_type": "stream",
          "name": "stdout",
          "text": [
            "------------------------------------\n",
            "크레인 위치:  1\n",
            "요소를 꺼낼 board[0]:  [0, 0, 0, 0, 0]\n",
            "1번째 board의 마지막 요소:  0\n",
            "------------------------------------\n",
            "크레인 위치:  5\n",
            "요소를 꺼낼 board[4]:  [3, 5, 1, 3, 1]\n",
            "5번째 board의 마지막 요소:  1\n",
            "busket:  [0, 1]\n",
            "------------------------------------\n",
            "크레인 위치:  3\n",
            "요소를 꺼낼 board[2]:  [0, 2, 5, 0, 1]\n",
            "3번째 board의 마지막 요소:  1\n",
            "중복 요소를 제거한 busket:  [0]\n",
            "------------------------------------\n",
            "크레인 위치:  5\n",
            "요소를 꺼낼 board[4]:  [3, 5, 1, 3]\n",
            "5번째 board의 마지막 요소:  3\n",
            "busket:  [0, 3]\n",
            "------------------------------------\n",
            "크레인 위치:  1\n",
            "요소를 꺼낼 board[0]:  [0, 0, 0, 0]\n",
            "1번째 board의 마지막 요소:  0\n",
            "------------------------------------\n",
            "크레인 위치:  2\n",
            "요소를 꺼낼 board[1]:  [0, 0, 1, 0, 3]\n",
            "2번째 board의 마지막 요소:  3\n",
            "중복 요소를 제거한 busket:  [0]\n",
            "------------------------------------\n",
            "크레인 위치:  1\n",
            "요소를 꺼낼 board[0]:  [0, 0, 0]\n",
            "1번째 board의 마지막 요소:  0\n",
            "------------------------------------\n",
            "크레인 위치:  4\n",
            "요소를 꺼낼 board[3]:  [4, 2, 4, 4, 2]\n",
            "4번째 board의 마지막 요소:  2\n",
            "busket:  [0, 2]\n"
          ]
        },
        {
          "output_type": "execute_result",
          "data": {
            "text/plain": [
              "4"
            ]
          },
          "metadata": {},
          "execution_count": 38
        }
      ]
    },
    {
      "cell_type": "code",
      "source": [
        "# 빈칸 밀어주기\n",
        "\n",
        "def solution(board, moves):\n",
        "    busket = [0]\n",
        "    result = 0\n",
        "    n = len(moves)\n",
        "\n",
        "    str(board)\n",
        "\n",
        "    for i in range(n):\n",
        "      print(\"------------------------------------\")\n",
        "      print(\"크레인 위치: \", moves[i] )\n",
        "      print(f\"요소를 꺼낼 board[{moves[i]-1}]: \",board[moves[i]-1])\n",
        "      print(f\"{moves[i]}번째 board의 마지막 요소: \", board[moves[i]-1][-1])\n",
        "\n",
        "      # 마지막 요소가 0이 아닐때\n",
        "      if board[moves[i]-1][-1] != 0:\n",
        "\n",
        "        # busket의 마지막 요소와 꺼낸 요소가 같다면\n",
        "        if busket[-1] == board[moves[i]-1][-1]:\n",
        "                result += 2\n",
        "                busket.pop()\n",
        "                print(\"중복 요소를 제거한 busket: \", busket)\n",
        "\n",
        "      # busket의 맞미가 요소와 꺼낸 요소가 다르다면\n",
        "        else:\n",
        "          busket.append(board[moves[i]-1][-1])   # 마지막 요소 busket에 추가\n",
        "          print(\"busket: \",busket)\n",
        "\n",
        "      board[moves[i]-1].pop()                # board에서 마지막 요소 삭제\n",
        "\n",
        "\n",
        "\n",
        "\n",
        "    return result"
      ],
      "metadata": {
        "id": "ABLMjCQra4B9"
      },
      "execution_count": null,
      "outputs": []
    },
    {
      "cell_type": "code",
      "source": [
        "# 정답 풀이"
      ],
      "metadata": {
        "id": "8txDufQMisCk"
      },
      "execution_count": null,
      "outputs": []
    },
    {
      "cell_type": "code",
      "source": [
        "def solution(board, moves):\n",
        "\n",
        "    stacklist = []\n",
        "    answer = 0\n",
        "\n",
        "    for move in moves:\n",
        "        for i in range(len(board)):\n",
        "            if board[i][move-1] != 0:\n",
        "                print(\"-------------------------------------\")\n",
        "                print(f\"board[{i}]: \", board[i])\n",
        "                stacklist.append(board[i][move-1])\n",
        "\n",
        "                print(\"stacklist: \",stacklist)\n",
        "                board[i][move-1] = 0\n",
        "                print(f\"board[{i}]: \", board[i])\n",
        "\n",
        "                if len(stacklist) > 1:\n",
        "                    if stacklist[-1] == stacklist[-2]:\n",
        "                        stacklist.pop(-1)\n",
        "                        stacklist.pop(-1)\n",
        "                        answer += 2\n",
        "                        print(\"수정 후 stacklist: \",stacklist)\n",
        "                break\n",
        "    return answer"
      ],
      "metadata": {
        "id": "uNmU4Ak-irb9"
      },
      "execution_count": null,
      "outputs": []
    },
    {
      "cell_type": "code",
      "source": [
        "solution([[0,0,0,0,0],[0,0,1,0,3],[0,2,5,0,1],[4,2,4,4,2],[3,5,1,3,1]],[1,5,3,5,1,2,1,4])"
      ],
      "metadata": {
        "colab": {
          "base_uri": "https://localhost:8080/"
        },
        "id": "HVRNA6y-jA3c",
        "outputId": "f0b98d96-b765-463f-bbb3-8a6dd33b5160"
      },
      "execution_count": null,
      "outputs": [
        {
          "output_type": "stream",
          "name": "stdout",
          "text": [
            "-------------------------------------\n",
            "board[3]:  [4, 2, 4, 4, 2]\n",
            "stacklist:  [4]\n",
            "board[3]:  [0, 2, 4, 4, 2]\n",
            "-------------------------------------\n",
            "board[1]:  [0, 0, 1, 0, 3]\n",
            "stacklist:  [4, 3]\n",
            "board[1]:  [0, 0, 1, 0, 0]\n",
            "-------------------------------------\n",
            "board[1]:  [0, 0, 1, 0, 0]\n",
            "stacklist:  [4, 3, 1]\n",
            "board[1]:  [0, 0, 0, 0, 0]\n",
            "-------------------------------------\n",
            "board[2]:  [0, 2, 5, 0, 1]\n",
            "stacklist:  [4, 3, 1, 1]\n",
            "board[2]:  [0, 2, 5, 0, 0]\n",
            "수정 후 stacklist:  [4, 3]\n",
            "-------------------------------------\n",
            "board[4]:  [3, 5, 1, 3, 1]\n",
            "stacklist:  [4, 3, 3]\n",
            "board[4]:  [0, 5, 1, 3, 1]\n",
            "수정 후 stacklist:  [4]\n",
            "-------------------------------------\n",
            "board[2]:  [0, 2, 5, 0, 0]\n",
            "stacklist:  [4, 2]\n",
            "board[2]:  [0, 0, 5, 0, 0]\n",
            "-------------------------------------\n",
            "board[3]:  [0, 2, 4, 4, 2]\n",
            "stacklist:  [4, 2, 4]\n",
            "board[3]:  [0, 2, 4, 0, 2]\n"
          ]
        },
        {
          "output_type": "execute_result",
          "data": {
            "text/plain": [
              "4"
            ]
          },
          "metadata": {},
          "execution_count": 7
        }
      ]
    }
  ]
}