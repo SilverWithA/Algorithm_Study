{
 "cells": [
  {
   "cell_type": "markdown",
   "id": "7808c73d",
   "metadata": {},
   "source": [
    "## ch6. 정렬"
   ]
  },
  {
   "cell_type": "code",
   "execution_count": 4,
   "id": "6ebfdadd",
   "metadata": {},
   "outputs": [],
   "source": [
    "from IPython.display import Image"
   ]
  },
  {
   "cell_type": "markdown",
   "id": "4390a8b7",
   "metadata": {},
   "source": [
    "## 6-3. 단순 선택 정렬\n",
    "* ### 과정\n",
    "\n",
    "\n",
    "![단순선택정렬](./단순선택정렬.png)\n",
    "\n",
    "1. 범위 0부터 n-1 까지 스캔하여 가장 작은 값을 선택해 a[0]과 a[min]과 교환한다.\n",
    "\n",
    "2. 스캔할 범위가 1~n까지로 줄어들고 1의 과정 진행 -> 정렬완료\n",
    "\n",
    "\n",
    "* #### 요솟값 비교 횟수 = (n^2 - n)/2 회\n",
    "\n",
    "안정적이지 않은 정렬 수행 방법 - 인접한 요소를 교환하는 것이 아니기때문에 중복 숫자에 대하여 중복숫자1과 중복숫자2의 순서가 바뀐다."
   ]
  },
  {
   "cell_type": "code",
   "execution_count": 40,
   "id": "9fd1e277",
   "metadata": {},
   "outputs": [
    {
     "data": {
      "text/plain": [
       "[1, 4, 5, 5, 6, 6, 7]"
      ]
     },
     "execution_count": 40,
     "metadata": {},
     "output_type": "execute_result"
    }
   ],
   "source": [
    "# 실습 6-6 단순 선택 정렬\n",
    "\n",
    "def select_sort(a):\n",
    "    \n",
    "    n = len(a)!pip install IPython \n",
    "    for i in range(n-1):\n",
    "        min = i     # 정렬할 배열에서 가장 작은 값의 인덱스\n",
    "        for j in range(i+1,n):  # 범위에서 최솟값 스캔\n",
    "            if a[j] < a[min]: \n",
    "                min = j\n",
    "        a[i], a[min] = a[min], a[i]  # 교환\n",
    "    return a\n",
    "        \n",
    "select_sort([1,6,5,7,5,6,4])"
   ]
  },
  {
   "cell_type": "markdown",
   "id": "077195a6",
   "metadata": {},
   "source": [
    "* note: 최소값을 추출하는 과정을 어떻게 구현해야할지 고민이 길었음! "
   ]
  },
  {
   "cell_type": "markdown",
   "id": "be724365",
   "metadata": {},
   "source": [
    "## 6-4. 단순 삽입 정렬\n",
    "\n",
    "* #### 과정\n",
    "2번째 요소부터 선택하여 진행하고 이전요소랑 대소비교하여 알맞은 정렬 자리에 2번째 요소가 삽입되는 것\n",
    "\n",
    "* #### 삽입 과정 \n",
    "\n",
    "선택된 요소보다 작은 요소를 만나기 전까지 이웃한 왼쪽의 요소를 선택 요소 자리에 대입하는 작업을 반족하고 작은 요소를 만나면 선택된 요소를 해당위치에 대입한다.\n",
    "-> 선택요소보다 크다면 한 자리식 밀어내는 과정임\n",
    "\n",
    "\n",
    "![단순삽입정렬](./단순삽입정렬.png)\n",
    "\n",
    "\n",
    "* #### 떨어져있는 요소가 바뀌는게 아니라 안정적인 정렬\n",
    "* #### 비교횟수와 교환 횟수는 n^2/2 회 -> 단순 정렬의 시간 복잡도는 모두 O(n^2)"
   ]
  },
  {
   "cell_type": "code",
   "execution_count": 27,
   "id": "f101f0ff",
   "metadata": {},
   "outputs": [
    {
     "data": {
      "text/plain": [
       "[1, 2, 3, 4, 5, 6, 10, 12]"
      ]
     },
     "execution_count": 27,
     "metadata": {},
     "output_type": "execute_result"
    }
   ],
   "source": [
    "# 단순 삽입 정렬 구현하기\n",
    "def insertion_sort1(a):\n",
    "    n = len(a)\n",
    "    for i in range(1, n):\n",
    "        j = i\n",
    "        tmp = a[i] # 2번째 요소부터 선택\n",
    "        while j > 0 and a[j - 1] > tmp: # 이웃한 왼쪽 요소를 대입해주는 과정\n",
    "            a[j] = a[j - 1]\n",
    "            j -= 1\n",
    "        a[j] = tmp # 선택요소보다 작은 요소를 만났을때 그 자리에 선택 요소가 들어감\n",
    "    return a\n",
    "\n",
    "\n",
    "insertion_sort1([4,3,2,10,12,1,5,6])"
   ]
  },
  {
   "cell_type": "code",
   "execution_count": 56,
   "id": "44e35f0e",
   "metadata": {},
   "outputs": [
    {
     "name": "stdout",
     "output_type": "stream",
     "text": [
      "\n",
      "<  1번째 회전  >\n",
      "  4   3   2  10  12   1   5   6 \n",
      "-------------------------------\n",
      "2번째 요소부터 선택: 3\n",
      "한 칸씩 요소 밀기\n",
      "[4, 4, 2, 10, 12, 1, 5, 6]\n",
      "\n",
      "선택요소 자리에 맞게 삽입하기\n",
      "[3, 4, 2, 10, 12, 1, 5, 6]\n",
      "\n",
      "<  2번째 회전  >\n",
      "  3   4   2  10  12   1   5   6 \n",
      "-------------------------------\n",
      "3번째 요소부터 선택: 2\n",
      "한 칸씩 요소 밀기\n",
      "[3, 4, 4, 10, 12, 1, 5, 6]\n",
      "한 칸씩 요소 밀기\n",
      "[3, 3, 4, 10, 12, 1, 5, 6]\n",
      "\n",
      "선택요소 자리에 맞게 삽입하기\n",
      "[2, 3, 4, 10, 12, 1, 5, 6]\n",
      "\n",
      "<  3번째 회전  >\n",
      "  2   3   4  10  12   1   5   6 \n",
      "-------------------------------\n",
      "4번째 요소부터 선택: 10\n",
      "\n",
      "선택요소 자리에 맞게 삽입하기\n",
      "[2, 3, 4, 10, 12, 1, 5, 6]\n",
      "\n",
      "<  4번째 회전  >\n",
      "  2   3   4  10  12   1   5   6 \n",
      "-------------------------------\n",
      "5번째 요소부터 선택: 12\n",
      "\n",
      "선택요소 자리에 맞게 삽입하기\n",
      "[2, 3, 4, 10, 12, 1, 5, 6]\n",
      "\n",
      "<  5번째 회전  >\n",
      "  2   3   4  10  12   1   5   6 \n",
      "-------------------------------\n",
      "6번째 요소부터 선택: 1\n",
      "한 칸씩 요소 밀기\n",
      "[2, 3, 4, 10, 12, 12, 5, 6]\n",
      "한 칸씩 요소 밀기\n",
      "[2, 3, 4, 10, 10, 12, 5, 6]\n",
      "한 칸씩 요소 밀기\n",
      "[2, 3, 4, 4, 10, 12, 5, 6]\n",
      "한 칸씩 요소 밀기\n",
      "[2, 3, 3, 4, 10, 12, 5, 6]\n",
      "한 칸씩 요소 밀기\n",
      "[2, 2, 3, 4, 10, 12, 5, 6]\n",
      "\n",
      "선택요소 자리에 맞게 삽입하기\n",
      "[1, 2, 3, 4, 10, 12, 5, 6]\n",
      "\n",
      "<  6번째 회전  >\n",
      "  1   2   3   4  10  12   5   6 \n",
      "-------------------------------\n",
      "7번째 요소부터 선택: 5\n",
      "한 칸씩 요소 밀기\n",
      "[1, 2, 3, 4, 10, 12, 12, 6]\n",
      "한 칸씩 요소 밀기\n",
      "[1, 2, 3, 4, 10, 10, 12, 6]\n",
      "\n",
      "선택요소 자리에 맞게 삽입하기\n",
      "[1, 2, 3, 4, 5, 10, 12, 6]\n",
      "\n",
      "<  7번째 회전  >\n",
      "  1   2   3   4   5  10  12   6 \n",
      "-------------------------------\n",
      "8번째 요소부터 선택: 6\n",
      "한 칸씩 요소 밀기\n",
      "[1, 2, 3, 4, 5, 10, 12, 12]\n",
      "한 칸씩 요소 밀기\n",
      "[1, 2, 3, 4, 5, 10, 10, 12]\n",
      "\n",
      "선택요소 자리에 맞게 삽입하기\n",
      "[1, 2, 3, 4, 5, 6, 10, 12]\n"
     ]
    },
    {
     "data": {
      "text/plain": [
       "[1, 2, 3, 4, 5, 6, 10, 12]"
      ]
     },
     "execution_count": 56,
     "metadata": {},
     "output_type": "execute_result"
    }
   ],
   "source": [
    "# 단순 삽입 정렬 과정 출력_verbose\n",
    "\n",
    "def insertion_sort2(a):\n",
    "    n = len(a)\n",
    "    for i in range(1, n):\n",
    "        print()\n",
    "        print(f\"<  {i}번째 회전  >\")\n",
    "        for m in range(0,n):\n",
    "            print(f\"{a[m]:3}\",end = ' ')\n",
    "        print()    \n",
    "        print('-------------------------------')\n",
    "        \n",
    "        j = i\n",
    "        \n",
    "        tmp = a[i] # 2번째 요소부터 선택\n",
    "        print(f\"{i+1}번째 요소부터 선택: {tmp}\")\n",
    "        \n",
    "        while j > 0 and a[j - 1] > tmp:\n",
    "            # 인덱스에 벗어나지 않으면서 선택요소(tmp)보다 이전요소(a[j-])가 크면 요소 한 칸씩 밀기\n",
    "            a[j] = a[j - 1]\n",
    "            print(\"한 칸씩 요소 밀기\")\n",
    "            print(a)\n",
    "            j -= 1\n",
    "        a[j] = tmp\n",
    "        print()\n",
    "        print(\"선택요소 자리에 맞게 삽입하기\")\n",
    "        print(a)\n",
    "    return a\n",
    "\n",
    "\n",
    "insertion_sort2([4,3,2,10,12,1,5,6])"
   ]
  },
  {
   "cell_type": "markdown",
   "id": "b1f95fe0",
   "metadata": {},
   "source": [
    "## 6-5. 셸 정렬\n",
    "\n",
    "https://www.tutorialspoint.com/data_structures_algorithms/shell_sort_algorithm.htm\n",
    "\n",
    "#### 단순 삽입 정렬을 개선한 정렬\n",
    "* 단순 삽입정렬의 특징\n",
    "\n",
    " > a. 삽입 위치가 가까우면 정렬 속도 빠름\n",
    "\n",
    "> b. 삽입해야할 위치가 멀면 이동 횟수가 많아짐\n",
    "\n",
    "a의 장점은 살리고 b의 단점은 개선한 것 = 셸 정렬이다\n"
   ]
  },
  {
   "cell_type": "markdown",
   "id": "38ee68cd",
   "metadata": {},
   "source": [
    "* #### 정렬 과정\n",
    "\n",
    "![셸정렬](./셸정렬.png)\n",
    "\n",
    "len(a) = 8인 배열일때,\n",
    "\n",
    "4칸씩 떨어진 두 요소를 단순 삽입 정렬 방법을 이용해 비교,교환한다\n",
    "\n",
    "그 후 2칸씩 떨어진 네 요소를 비교 교환한다\n",
    "\n",
    "마지막으로 1칸씩 떨어진 여덟개의 요소를 비교 교환한다."
   ]
  },
  {
   "cell_type": "code",
   "execution_count": 6,
   "id": "6c2c4314",
   "metadata": {},
   "outputs": [
    {
     "data": {
      "text/plain": [
       "[1, 3, 4, 5, 5, 6, 6, 7]"
      ]
     },
     "execution_count": 6,
     "metadata": {},
     "output_type": "execute_result"
    }
   ],
   "source": [
    "# 실습 6-8. 셸 정렬 구현하기\n",
    "\n",
    "def shell_sort1(a):\n",
    "    n = len(a)\n",
    "    h = n // 2\n",
    "    \n",
    "    while h > 0:\n",
    "        for i in range(h,n):\n",
    "            j = i - h\n",
    "            tmp = a[i]\n",
    "            while j >=0 and a[j] > tmp:\n",
    "                a[j+h] = a[j]\n",
    "                j -=h\n",
    "            a[j+h] = tmp\n",
    "        h //=2\n",
    "    return a\n",
    "\n",
    "\n",
    "shell_sort1([1,6,5,7,5,6,4,3])"
   ]
  },
  {
   "cell_type": "code",
   "execution_count": 81,
   "id": "22e0b0bf",
   "metadata": {
    "scrolled": true
   },
   "outputs": [
    {
     "name": "stdout",
     "output_type": "stream",
     "text": [
      "\n",
      "4칸 떨어진 요소를 비교합니다.\n",
      " 1   6   5   7   5   6   4   3  \n",
      "--------------------------------\n",
      "\n",
      "2칸 떨어진 요소를 비교합니다.\n",
      " 1   6   4   3   5   6   5   7  \n",
      "--------------------------------\n",
      "\n",
      "1칸 떨어진 요소를 비교합니다.\n",
      " 1   3   4   6   5   6   5   7  \n",
      "--------------------------------\n"
     ]
    },
    {
     "data": {
      "text/plain": [
       "[1, 3, 4, 5, 5, 6, 6, 7]"
      ]
     },
     "execution_count": 81,
     "metadata": {},
     "output_type": "execute_result"
    }
   ],
   "source": [
    "# 셸 정렬 구현하기_verbose\n",
    "\n",
    "def shell_sort2(a):\n",
    "    n = len(a)\n",
    "    h = n//2\n",
    "    while h > 0:\n",
    "        print()\n",
    "        print(f\"{h}칸 떨어진 요소를 비교합니다.\")\n",
    "        for m in range(0,n):\n",
    "            print(f\"{a[m]:2}\",end = \"  \")\n",
    "        print()\n",
    "        print('-'*n*4)\n",
    "        \n",
    "        for i in range(h,n):\n",
    "            j = i - h   # i와 h칸 떨어진 요소 인덱스\n",
    "            tmp = a[i] # 선택 요소\n",
    "            \n",
    "            while j >=0 and a[j] > tmp: # 선택요소가 h칸 떨어진 요소보다 작을때\n",
    "                a[j+h] = a[j]\n",
    "                j -= h\n",
    "            a[j+h] = tmp\n",
    "        h //=2\n",
    "    return a\n",
    "\n",
    "\n",
    "shell_sort2([1,6,5,7,5,6,4,3])"
   ]
  },
  {
   "cell_type": "markdown",
   "id": "5e1f0511",
   "metadata": {},
   "source": [
    "## 6-6. 퀵 정렬\n",
    "\n",
    "len(a) 중앙의 위치한 값을 pivot이라고 할때\n",
    "pivot을 기준으로 작은 값은 pivot왼쪽으로, 큰 값은 pivot 오른쪽으로 정렬하는 방법"
   ]
  },
  {
   "cell_type": "code",
   "execution_count": 95,
   "id": "fd429d2c",
   "metadata": {},
   "outputs": [
    {
     "ename": "TypeError",
     "evalue": "qsort() takes 1 positional argument but 3 were given",
     "output_type": "error",
     "traceback": [
      "\u001b[1;31m---------------------------------------------------------------------------\u001b[0m",
      "\u001b[1;31mTypeError\u001b[0m                                 Traceback (most recent call last)",
      "Cell \u001b[1;32mIn[95], line 28\u001b[0m\n\u001b[0;32m     24\u001b[0m     qsort(a, \u001b[38;5;241m0\u001b[39m, \u001b[38;5;28mlen\u001b[39m(a) \u001b[38;5;241m-\u001b[39m \u001b[38;5;241m1\u001b[39m)\n\u001b[0;32m     27\u001b[0m x \u001b[38;5;241m=\u001b[39m [\u001b[38;5;241m5\u001b[39m,\u001b[38;5;241m4\u001b[39m,\u001b[38;5;241m1\u001b[39m,\u001b[38;5;241m9\u001b[39m,\u001b[38;5;241m6\u001b[39m,\u001b[38;5;241m4\u001b[39m,\u001b[38;5;241m1\u001b[39m,\u001b[38;5;241m5\u001b[39m,\u001b[38;5;241m1\u001b[39m,\u001b[38;5;241m7\u001b[39m]    \n\u001b[1;32m---> 28\u001b[0m \u001b[43mquick_sort\u001b[49m\u001b[43m(\u001b[49m\u001b[43mx\u001b[49m\u001b[43m)\u001b[49m\n",
      "Cell \u001b[1;32mIn[95], line 24\u001b[0m, in \u001b[0;36mquick_sort\u001b[1;34m(a)\u001b[0m\n\u001b[0;32m     22\u001b[0m \u001b[38;5;28;01mdef\u001b[39;00m \u001b[38;5;21mquick_sort\u001b[39m(a):\n\u001b[0;32m     23\u001b[0m     \u001b[38;5;124;03m\"\"\"퀵 정렬\"\"\"\u001b[39;00m\n\u001b[1;32m---> 24\u001b[0m     \u001b[43mqsort\u001b[49m\u001b[43m(\u001b[49m\u001b[43ma\u001b[49m\u001b[43m,\u001b[49m\u001b[43m \u001b[49m\u001b[38;5;241;43m0\u001b[39;49m\u001b[43m,\u001b[49m\u001b[43m \u001b[49m\u001b[38;5;28;43mlen\u001b[39;49m\u001b[43m(\u001b[49m\u001b[43ma\u001b[49m\u001b[43m)\u001b[49m\u001b[43m \u001b[49m\u001b[38;5;241;43m-\u001b[39;49m\u001b[43m \u001b[49m\u001b[38;5;241;43m1\u001b[39;49m\u001b[43m)\u001b[49m\n",
      "\u001b[1;31mTypeError\u001b[0m: qsort() takes 1 positional argument but 3 were given"
     ]
    }
   ],
   "source": [
    "# [Do it! 실습 6-10] 퀵 정렬 알고리즘 구현\n",
    "\n",
    "def qsort(a):\n",
    "    \"\"\"a[left] ~ a[right]를 퀵 정렬\"\"\"\n",
    "    pl = left                   # 왼쪽 커서\n",
    "    pr = right                  # 오른쪽 커서\n",
    "    x = a[(left + right) // 2]  # 피벗(가운데 요소)\n",
    "\n",
    "    while pl <= pr:    # 실습 6-10과 같은 while 문\n",
    "        while a[pl] < x: pl += 1\n",
    "        while a[pr] > x: pr -= 1\n",
    "        if pl <= pr:\n",
    "            a[pl], a[pr] = a[pr], a[pl]\n",
    "            pl += 1\n",
    "            pr -= 1\n",
    "\n",
    "    if left < pr: qsort(a, left, pr)\n",
    "    if pl < right: qsort(a, pl, right)\n",
    "    \n",
    "    return a\n",
    "\n",
    "def quick_sort(a):\n",
    "    \"\"\"퀵 정렬\"\"\"\n",
    "    qsort(a, 0, len(a) - 1)\n",
    "    \n",
    "    \n",
    "x = [5,4,1,9,6,4,1,5,1,7]    \n",
    "quick_sort(x)"
   ]
  },
  {
   "cell_type": "markdown",
   "id": "40e2bc2b",
   "metadata": {},
   "source": [
    "### 6-7. 병합 정렬"
   ]
  },
  {
   "cell_type": "markdown",
   "id": "04866a5f",
   "metadata": {},
   "source": [
    "### 6-8. 힙 정렬"
   ]
  },
  {
   "cell_type": "markdown",
   "id": "0c219856",
   "metadata": {},
   "source": [
    "### 6-9. 도수 정렬"
   ]
  }
 ],
 "metadata": {
  "kernelspec": {
   "display_name": "Python 3 (ipykernel)",
   "language": "python",
   "name": "python3"
  },
  "language_info": {
   "codemirror_mode": {
    "name": "ipython",
    "version": 3
   },
   "file_extension": ".py",
   "mimetype": "text/x-python",
   "name": "python",
   "nbconvert_exporter": "python",
   "pygments_lexer": "ipython3",
   "version": "3.10.9"
  }
 },
 "nbformat": 4,
 "nbformat_minor": 5
}
