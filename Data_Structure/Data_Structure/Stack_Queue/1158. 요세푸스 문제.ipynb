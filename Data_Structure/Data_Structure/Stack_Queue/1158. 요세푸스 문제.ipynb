{
 "cells": [
  {
   "cell_type": "markdown",
   "id": "da382fd7",
   "metadata": {},
   "source": [
    "# 1158번: 요세푸스 문제\n",
    "\n",
    "https://www.acmicpc.net/problem/1158\n",
    "\n",
    "**문제**    \n",
    "요세푸스 문제는 다음과 같다.\n",
    "\n",
    "1번부터 N번까지 N명의 사람이 원을 이루면서 앉아있고, 양의 정수 K(≤ N)가 주어진다. 이제 순서대로 K번째 사람을 제거한다. 한 사람이 제거되면 남은 사람들로 이루어진 원을 따라 이 과정을 계속해 나간다. 이 과정은 N명의 사람이 모두 제거될 때까지 계속된다. 원에서 사람들이 제거되는 순서를 (N, K)-요세푸스 순열이라고 한다. 예를 들어 (7, 3)-요세푸스 순열은 <3, 6, 2, 7, 5, 1, 4>이다.\n",
    "\n",
    "N과 K가 주어지면 (N, K)-요세푸스 순열을 구하는 프로그램을 작성하시오.\n",
    "\n",
    "\n",
    "**입력**     \n",
    "첫째 줄에 N과 K가 빈 칸을 사이에 두고 순서대로 주어진다. (1 ≤ K ≤ N ≤ 5,000)"
   ]
  },
  {
   "cell_type": "markdown",
   "id": "70eba419",
   "metadata": {},
   "source": [
    "## 풀이1\n",
    "\n",
    "* 링버퍼 형식으로 구현  \n",
    "len(arr1)밖으로 인덱스가 나가면 index % len(arr1)과 같은 형식으로  \n",
    "but 출력값은 맞지만 문제가 맞지 않음)"
   ]
  },
  {
   "cell_type": "code",
   "execution_count": 13,
   "id": "18e4fa73",
   "metadata": {},
   "outputs": [
    {
     "name": "stdout",
     "output_type": "stream",
     "text": [
      "7 3\n",
      "[1, 2, 3, 4, 5, 6, 7]\n",
      "---------------------------\n",
      "pointer:  2\n",
      "arr1:  [1, 2, 4, 5, 6, 7]\n",
      "answer:  [3]\n",
      "---------------------------\n",
      "pointer:  4\n",
      "arr1:  [1, 2, 4, 5, 7]\n",
      "answer:  [3, 6]\n",
      "---------------------------\n",
      "pointer:  1\n",
      "arr1:  [1, 4, 5, 7]\n",
      "answer:  [3, 6, 2]\n",
      "---------------------------\n",
      "pointer:  3\n",
      "arr1:  [1, 4, 5]\n",
      "answer:  [3, 6, 2, 7]\n",
      "---------------------------\n",
      "pointer:  2\n",
      "arr1:  [1, 4]\n",
      "answer:  [3, 6, 2, 7, 5]\n",
      "---------------------------\n",
      "pointer:  0\n",
      "arr1:  [4]\n",
      "answer:  [3, 6, 2, 7, 5, 1]\n",
      "---------------------------\n",
      "pointer:  0\n",
      "arr1:  []\n",
      "answer:  [3, 6, 2, 7, 5, 1, 4]\n",
      "result: <3, 6, 2, 7, 5, 1, 4>\n"
     ]
    }
   ],
   "source": [
    "# 입력\n",
    "n, k = map(int, input().split())\n",
    "arr1 = [i for i in range(1,n+1)]\n",
    "print(arr1)\n",
    "\n",
    "\n",
    "answer = []\n",
    "pointer = 0\n",
    "\n",
    "while len(arr1) != 0:\n",
    "    pointer = ((pointer + k-1) % len(arr1))\n",
    "    print(\"---------------------------\")\n",
    "    print(\"pointer: \",pointer)\n",
    "    answer.append(arr1[pointer])\n",
    "    # print(\"arr1: \", arr1)\n",
    "    del arr1[pointer]\n",
    "    print(\"arr1: \",arr1)\n",
    "    print(\"answer: \", answer)\n",
    "\n",
    "\n",
    "print(f\"result: <{answer[0]}, {answer[1]}, {answer[2]}, {answer[3]}, {answer[4]}, {answer[5]}, {answer[6]}>\")\n"
   ]
  },
  {
   "cell_type": "markdown",
   "id": "50b82e90",
   "metadata": {},
   "source": [
    "## 풀이2\n",
    "\n",
    "* pop() 사용하기\n",
    "* str형으로 만들어서 join해서 리턴하기"
   ]
  },
  {
   "cell_type": "code",
   "execution_count": 19,
   "id": "b3f5b056",
   "metadata": {},
   "outputs": [
    {
     "name": "stdout",
     "output_type": "stream",
     "text": [
      "answer:  [1]\n",
      "arr:  [2, 3, 4, 5, 6, 7]\n"
     ]
    }
   ],
   "source": [
    "# pop() 사용하기\n",
    "\n",
    "arr = [i for i in range(1,7+1)]\n",
    "answer = [] \n",
    "answer.append(arr.pop(0))\n",
    "print(\"answer: \",answer)\n",
    "print(\"arr: \",arr)"
   ]
  },
  {
   "cell_type": "code",
   "execution_count": 20,
   "id": "f13bcccd",
   "metadata": {},
   "outputs": [
    {
     "name": "stdout",
     "output_type": "stream",
     "text": [
      "7 3\n",
      "[1, 2, 3, 4, 5, 6, 7]\n",
      "---------------------------\n",
      "pointer:  2\n",
      "arr:  [1, 2, 4, 5, 6, 7]\n",
      "answer:  ['3']\n",
      "---------------------------\n",
      "pointer:  4\n",
      "arr:  [1, 2, 4, 5, 7]\n",
      "answer:  ['3', '6']\n",
      "---------------------------\n",
      "pointer:  1\n",
      "arr:  [1, 4, 5, 7]\n",
      "answer:  ['3', '6', '2']\n",
      "---------------------------\n",
      "pointer:  3\n",
      "arr:  [1, 4, 5]\n",
      "answer:  ['3', '6', '2', '7']\n",
      "---------------------------\n",
      "pointer:  2\n",
      "arr:  [1, 4]\n",
      "answer:  ['3', '6', '2', '7', '5']\n",
      "---------------------------\n",
      "pointer:  0\n",
      "arr:  [4]\n",
      "answer:  ['3', '6', '2', '7', '5', '1']\n",
      "---------------------------\n",
      "pointer:  0\n",
      "arr:  []\n",
      "answer:  ['3', '6', '2', '7', '5', '1', '4']\n",
      "<3, 6, 2, 7, 5, 1, 4>\n"
     ]
    }
   ],
   "source": [
    "# 입력\n",
    "n, k = map(int, input().split())\n",
    "arr = [i for i in range(1,n+1)]\n",
    "print(arr)\n",
    "\n",
    "\n",
    "answer = []\n",
    "pointer = 0\n",
    "\n",
    "while len(arr) != 0:\n",
    "    \n",
    "    # 제거될 인덱스\n",
    "    pointer = ((pointer + k-1) % len(arr))\n",
    "    print(\"---------------------------\")\n",
    "    print(\"pointer: \",pointer)\n",
    "    \n",
    "    # 삭제\n",
    "    answer.append(str(arr.pop(pointer)))\n",
    "    print(\"arr: \",arr)\n",
    "    print(\"answer: \", answer)\n",
    "\n",
    "\n",
    "print(\"<\", \", \".join(answer)[:],\">\",sep=\"\")"
   ]
  }
 ],
 "metadata": {
  "kernelspec": {
   "display_name": "Python 3 (ipykernel)",
   "language": "python",
   "name": "python3"
  },
  "language_info": {
   "codemirror_mode": {
    "name": "ipython",
    "version": 3
   },
   "file_extension": ".py",
   "mimetype": "text/x-python",
   "name": "python",
   "nbconvert_exporter": "python",
   "pygments_lexer": "ipython3",
   "version": "3.9.7"
  }
 },
 "nbformat": 4,
 "nbformat_minor": 5
}
