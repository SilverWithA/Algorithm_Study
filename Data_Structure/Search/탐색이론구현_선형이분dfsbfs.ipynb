{
  "nbformat": 4,
  "nbformat_minor": 0,
  "metadata": {
    "colab": {
      "provenance": []
    },
    "kernelspec": {
      "name": "python3",
      "display_name": "Python 3"
    },
    "language_info": {
      "name": "python"
    }
  },
  "cells": [
    {
      "cell_type": "markdown",
      "source": [
        "## 1. 선형 탐색\n",
        "\n",
        "for문으로 구현"
      ],
      "metadata": {
        "id": "EPiUCmaE4aic"
      }
    },
    {
      "cell_type": "code",
      "execution_count": null,
      "metadata": {
        "colab": {
          "base_uri": "https://localhost:8080/"
        },
        "id": "hDyvGA0l4Vok",
        "outputId": "5f0575b4-eeae-4117-f06c-6650c3854e6b"
      },
      "outputs": [
        {
          "output_type": "stream",
          "name": "stdout",
          "text": [
            "원소 수를 입력하세요.: 5\n",
            "x[0]: 1\n",
            "x[1]: 3\n",
            "x[2]: 5\n",
            "x[3]: 7\n",
            "x[4]: 9\n",
            "검색할 값을 입력하세요.: 4\n",
            "검색 값을 갖는 요소가 존재하지 않습니다.\n"
          ]
        }
      ],
      "source": [
        "from typing import Any, Sequence\n",
        "\n",
        "def seq_search(a: Sequence, key: Any) -> int:\n",
        "    \"\"\"시퀀스 a에서 key값이 같은 요소를 선형 검색(for 문)\"\"\"\n",
        "    for i in range(len(a)):\n",
        "        if a[i] == key:\n",
        "            return i  # 검색 성공(인덱스를 반환)\n",
        "    return -1         # 검색 실패(-1을 반환)\n",
        "\n",
        "9\n",
        "if __name__ == '__main__':\n",
        "    num = int(input('원소 수를 입력하세요.: '))  # num 값을 입력\n",
        "    x = [None] * num                           # 원소 수가 num인 배열을 생성\n",
        "\n",
        "    for i in range(num):\n",
        "        x[i] = int(input(f'x[{i}]: '))\n",
        "\n",
        "    ky = int(input('검색할 값을 입력하세요.: '))  # 검색할 키 ky를 입력받음\n",
        "\n",
        "    idx = seq_search(x, ky)                     # ky와 값이 같은 요소를 x에서 검색\n",
        "\n",
        "    if idx == -1:\n",
        "        print('검색 값을 갖는 요소가 존재하지 않습니다.')\n",
        "    else:\n",
        "        print(f'검색 값은 x[{idx}]에 있습니다.')"
      ]
    },
    {
      "cell_type": "markdown",
      "source": [
        "## 2. 이분 탐색"
      ],
      "metadata": {
        "id": "Thck2nuR4ssQ"
      }
    },
    {
      "cell_type": "code",
      "source": [
        "from typing import Any, Sequence\n",
        "\n",
        "def bin_search(a: Sequence, key: Any) -> int:\n",
        "    \"\"\"시퀀스 a에서 key와 일치하는 원소를 이진 검색\"\"\"\n",
        "    pl = 0           # 검색 범위 맨 앞 원소의 인덱스\n",
        "    pr = len(a) - 1  # 검색 범위 맨 끝 원소의 인덱스\n",
        "\n",
        "    while True:\n",
        "        pc = (pl + pr) // 2  # 중앙 원소의 인덱스\n",
        "        if a[pc] == key:\n",
        "            return pc    # 검색 성공\n",
        "        elif a[pc] < key:\n",
        "            pl = pc + 1  # 검색 범위를 뒤쪽의 절반으로 좁힘\n",
        "        else:\n",
        "            pr = pc - 1  # 검색 범위를 앞쪽의 절반으로 좁힘\n",
        "        if pl > pr:\n",
        "            break\n",
        "    return -1            # 검색 실패\n",
        "\n",
        "if __name__ == '__main__':\n",
        "    num = int(input('원소 수를 입력하세요.: '))\n",
        "    x = [None] * num  # 원소 수가 num인 배열을 생성\n",
        "\n",
        "    print('배열 데이터를 오름차순으로 입력하세요.')\n",
        "\n",
        "    x[0] = int(input('x[0]: '))\n",
        "\n",
        "    for i in range(1, num):\n",
        "        while True:\n",
        "            x[i] = int(input(f'x[{i}]: '))\n",
        "            if x[i] >= x[i - 1]:\n",
        "                 break\n",
        "\n",
        "    ky = int(input('검색할 값을 입력하세요.: '))  # 검색할 ky를 입력\n",
        "\n",
        "    idx = bin_search(x, ky)                     # ky와 같은 값의 원소를 x에서 검색\n",
        "\n",
        "    if idx < 0:\n",
        "        print('검색값을 갖는 원소가 존재하지 않습니다.')\n",
        "    else:\n",
        "        print(f'검색값은 x[{idx}]에 있습니다.')"
      ],
      "metadata": {
        "id": "Bj8ACp5C4sW1"
      },
      "execution_count": null,
      "outputs": []
    },
    {
      "cell_type": "markdown",
      "source": [
        "# 3. DFS: 깊이 우선 탐색\n",
        "\n",
        "#### (1) 스택/큐를 이용한 구현\n"
      ],
      "metadata": {
        "id": "CwZzHaHvlonf"
      }
    },
    {
      "cell_type": "code",
      "source": [
        "graph = dict()\n",
        "\n",
        "graph['A'] = ['B', 'C']\n",
        "graph['B'] = ['A', 'D']\n",
        "graph['C'] = ['A', 'G', 'H', 'I']\n",
        "graph['D'] = ['B', 'E', 'F']\n",
        "graph['E'] = ['D']\n",
        "graph['F'] = ['D']\n",
        "graph['G'] = ['C']\n",
        "graph['H'] = ['C']\n",
        "graph['I'] = ['C', 'J']\n",
        "graph['J'] = ['I']"
      ],
      "metadata": {
        "id": "Xjz8IoPolvOZ"
      },
      "execution_count": null,
      "outputs": []
    },
    {
      "cell_type": "code",
      "source": [
        "def dfs(graph, start_node):\n",
        "\n",
        "    ## 기본은 항상 두개의 리스트를 별도로 관리해주는 것\n",
        "    need_visited, visited = list(), list()\n",
        "\n",
        "    ## 시작 노드를 시정하기\n",
        "    need_visited.append(start_node)\n",
        "\n",
        "    ## 만약 아직도 방문이 필요한 노드가 있다면,\n",
        "    while need_visited:\n",
        "\n",
        "        ## 그 중에서 가장 마지막 데이터를 추출 (스택 구조의 활용)\n",
        "        node = need_visited.pop()\n",
        "\n",
        "        ## 만약 그 노드가 방문한 목록에 없다면\n",
        "        if node not in visited:\n",
        "\n",
        "            ## 방문한 목록에 추가하기\n",
        "            visited.append(node)\n",
        "            print(\"----------------------------------------\")\n",
        "            print(\"visited: \", visited)\n",
        "\n",
        "            ## 그 노드에 연결된 노드를\n",
        "            need_visited.extend(graph[node])\n",
        "            print(\"need_visited: \",need_visited)\n",
        "\n",
        "\n",
        "    return visited"
      ],
      "metadata": {
        "id": "Vj7bApjXlwxP"
      },
      "execution_count": null,
      "outputs": []
    },
    {
      "cell_type": "code",
      "source": [
        "dfs(graph, 'A')"
      ],
      "metadata": {
        "colab": {
          "base_uri": "https://localhost:8080/"
        },
        "id": "xNatOZPTnG22",
        "outputId": "e84eb04b-eed5-4169-b8c7-903ca12380b1"
      },
      "execution_count": null,
      "outputs": [
        {
          "output_type": "stream",
          "name": "stdout",
          "text": [
            "-------------------------------\n",
            "visited:  ['A']\n",
            "need_visited:  ['B', 'C']\n",
            "-------------------------------\n",
            "visited:  ['A', 'C']\n",
            "need_visited:  ['B', 'A', 'G', 'H', 'I']\n",
            "-------------------------------\n",
            "visited:  ['A', 'C', 'I']\n",
            "need_visited:  ['B', 'A', 'G', 'H', 'C', 'J']\n",
            "-------------------------------\n",
            "visited:  ['A', 'C', 'I', 'J']\n",
            "need_visited:  ['B', 'A', 'G', 'H', 'C', 'I']\n",
            "-------------------------------\n",
            "visited:  ['A', 'C', 'I', 'J', 'H']\n",
            "need_visited:  ['B', 'A', 'G', 'C']\n",
            "-------------------------------\n",
            "visited:  ['A', 'C', 'I', 'J', 'H', 'G']\n",
            "need_visited:  ['B', 'A', 'C']\n",
            "-------------------------------\n",
            "visited:  ['A', 'C', 'I', 'J', 'H', 'G', 'B']\n",
            "need_visited:  ['A', 'D']\n",
            "-------------------------------\n",
            "visited:  ['A', 'C', 'I', 'J', 'H', 'G', 'B', 'D']\n",
            "need_visited:  ['A', 'B', 'E', 'F']\n",
            "-------------------------------\n",
            "visited:  ['A', 'C', 'I', 'J', 'H', 'G', 'B', 'D', 'F']\n",
            "need_visited:  ['A', 'B', 'E', 'D']\n",
            "-------------------------------\n",
            "visited:  ['A', 'C', 'I', 'J', 'H', 'G', 'B', 'D', 'F', 'E']\n",
            "need_visited:  ['A', 'B', 'D']\n"
          ]
        },
        {
          "output_type": "execute_result",
          "data": {
            "text/plain": [
              "['A', 'C', 'I', 'J', 'H', 'G', 'B', 'D', 'F', 'E']"
            ]
          },
          "metadata": {},
          "execution_count": 9
        }
      ]
    },
    {
      "cell_type": "code",
      "source": [
        "# 큐를 이용한 구현\n",
        "\n",
        "def dfs2(graph, start_node):\n",
        "    ## deque 패키지 불러오기\n",
        "    from collections import deque\n",
        "    visited = []\n",
        "    need_visited = deque()\n",
        "\n",
        "    ##시작 노드 설정해주기\n",
        "    need_visited.append(start_node)\n",
        "\n",
        "    ## 방문이 필요한 리스트가 아직 존재한다면\n",
        "    while need_visited:\n",
        "        ## 시작 노드를 지정하고\n",
        "        node = need_visited.pop()\n",
        "        print(\"----------------------------------------\")\n",
        "        print(\"visited: \", visited)\n",
        "\n",
        "        ##만약 방문한 리스트에 없다면\n",
        "        if node not in visited:\n",
        "\n",
        "            ## 방문 리스트에 노드를 추가\n",
        "            visited.append(node)\n",
        "            ## 인접 노드들을 방문 예정 리스트에 추가\n",
        "            need_visited.extend(graph[node])\n",
        "            print(\"need_visited: \",need_visited)\n",
        "\n",
        "    return visited"
      ],
      "metadata": {
        "id": "1ec0BKtFpB-L"
      },
      "execution_count": null,
      "outputs": []
    },
    {
      "cell_type": "code",
      "source": [
        "dfs(graph, 'A')"
      ],
      "metadata": {
        "colab": {
          "base_uri": "https://localhost:8080/"
        },
        "id": "o9hZAEtApNUL",
        "outputId": "fb217949-4c12-403d-96fa-cdd29b9652ec"
      },
      "execution_count": null,
      "outputs": [
        {
          "output_type": "stream",
          "name": "stdout",
          "text": [
            "----------------------------------------\n",
            "visited:  ['A']\n",
            "need_visited:  ['B', 'C']\n",
            "----------------------------------------\n",
            "visited:  ['A', 'C']\n",
            "need_visited:  ['B', 'A', 'G', 'H', 'I']\n",
            "----------------------------------------\n",
            "visited:  ['A', 'C', 'I']\n",
            "need_visited:  ['B', 'A', 'G', 'H', 'C', 'J']\n",
            "----------------------------------------\n",
            "visited:  ['A', 'C', 'I', 'J']\n",
            "need_visited:  ['B', 'A', 'G', 'H', 'C', 'I']\n",
            "----------------------------------------\n",
            "visited:  ['A', 'C', 'I', 'J', 'H']\n",
            "need_visited:  ['B', 'A', 'G', 'C']\n",
            "----------------------------------------\n",
            "visited:  ['A', 'C', 'I', 'J', 'H', 'G']\n",
            "need_visited:  ['B', 'A', 'C']\n",
            "----------------------------------------\n",
            "visited:  ['A', 'C', 'I', 'J', 'H', 'G', 'B']\n",
            "need_visited:  ['A', 'D']\n",
            "----------------------------------------\n",
            "visited:  ['A', 'C', 'I', 'J', 'H', 'G', 'B', 'D']\n",
            "need_visited:  ['A', 'B', 'E', 'F']\n",
            "----------------------------------------\n",
            "visited:  ['A', 'C', 'I', 'J', 'H', 'G', 'B', 'D', 'F']\n",
            "need_visited:  ['A', 'B', 'E', 'D']\n",
            "----------------------------------------\n",
            "visited:  ['A', 'C', 'I', 'J', 'H', 'G', 'B', 'D', 'F', 'E']\n",
            "need_visited:  ['A', 'B', 'D']\n"
          ]
        },
        {
          "output_type": "execute_result",
          "data": {
            "text/plain": [
              "['A', 'C', 'I', 'J', 'H', 'G', 'B', 'D', 'F', 'E']"
            ]
          },
          "metadata": {},
          "execution_count": 13
        }
      ]
    },
    {
      "cell_type": "markdown",
      "source": [
        "# 4. BFS 구현하기\n",
        "\n",
        "* 스택으로 구현하기 어렵다고 판단한 이유  \n",
        "\n",
        "(1) 루트로부터 bfs 방식으로 탐색  \n",
        "\n",
        "visited = [A]  루트  \n",
        "need_visited = [B,C]\n",
        "\n",
        "\n",
        "(2) stack의 성질로 pop()을 통해 방문한 노드에 C추가  \n",
        "visited = [A,C]  \n",
        "\n",
        "이때 C에 대한 자식 노드를 방문 예정에 추가하면  \n",
        "need_visited = [B,G,H,I]가 됨  \n",
        "\n",
        "따라서 그 다음부터 need_visited에서 pop()하면 레벨이 다른 노드(I)가 꺼내짐   \n",
        "\n",
        "-> 너비 우선 탐색 불가 따라서 스택 구조로 BFS 구현의 어려움 있음"
      ],
      "metadata": {
        "id": "ruf-yPQlp46p"
      }
    },
    {
      "cell_type": "code",
      "source": [
        "\n",
        "def bfs(graph, start_node):\n",
        "    ## deque 패키지 불러오기\n",
        "    from collections import deque\n",
        "    visited = []\n",
        "    need_visited = deque()\n",
        "\n",
        "    #시작 노드 설정해주기\n",
        "    need_visited.append(start_node)\n",
        "\n",
        "    # 방문이 필요한 리스트가 아직 존재한다면\n",
        "    while need_visited:\n",
        "\n",
        "        print(\"----------------------------------------\")\n",
        "        print(\"need_visited: \",need_visited)\n",
        "        node = need_visited.popleft()\n",
        "        print(\"node: \",node)\n",
        "        print(\"visited: \", visited)\n",
        "\n",
        "        # 만약 방문한 리스트에 없다면\n",
        "        if node not in visited:\n",
        "          visited.append(node)\n",
        "          for i in graph[node]:\n",
        "            if i not in visited:\n",
        "                need_visited.append(i)\n",
        "          print(\"need_visited: \",need_visited)\n",
        "\n",
        "    return visited"
      ],
      "metadata": {
        "id": "n8i1zBpvwT9x"
      },
      "execution_count": 41,
      "outputs": []
    },
    {
      "cell_type": "code",
      "source": [
        "bfs(graph, 'A')"
      ],
      "metadata": {
        "colab": {
          "base_uri": "https://localhost:8080/"
        },
        "id": "m9D5znljwcB_",
        "outputId": "2b974cb3-2d1f-4daa-a1d6-aab7bbbb02b7"
      },
      "execution_count": 42,
      "outputs": [
        {
          "output_type": "stream",
          "name": "stdout",
          "text": [
            "----------------------------------------\n",
            "need_visited:  deque(['A'])\n",
            "node:  A\n",
            "visited:  []\n",
            "need_visited:  deque(['B', 'C'])\n",
            "----------------------------------------\n",
            "need_visited:  deque(['B', 'C'])\n",
            "node:  B\n",
            "visited:  ['A']\n",
            "need_visited:  deque(['C', 'D'])\n",
            "----------------------------------------\n",
            "need_visited:  deque(['C', 'D'])\n",
            "node:  C\n",
            "visited:  ['A', 'B']\n",
            "need_visited:  deque(['D', 'G', 'H', 'I'])\n",
            "----------------------------------------\n",
            "need_visited:  deque(['D', 'G', 'H', 'I'])\n",
            "node:  D\n",
            "visited:  ['A', 'B', 'C']\n",
            "need_visited:  deque(['G', 'H', 'I', 'E', 'F'])\n",
            "----------------------------------------\n",
            "need_visited:  deque(['G', 'H', 'I', 'E', 'F'])\n",
            "node:  G\n",
            "visited:  ['A', 'B', 'C', 'D']\n",
            "need_visited:  deque(['H', 'I', 'E', 'F'])\n",
            "----------------------------------------\n",
            "need_visited:  deque(['H', 'I', 'E', 'F'])\n",
            "node:  H\n",
            "visited:  ['A', 'B', 'C', 'D', 'G']\n",
            "need_visited:  deque(['I', 'E', 'F'])\n",
            "----------------------------------------\n",
            "need_visited:  deque(['I', 'E', 'F'])\n",
            "node:  I\n",
            "visited:  ['A', 'B', 'C', 'D', 'G', 'H']\n",
            "need_visited:  deque(['E', 'F', 'J'])\n",
            "----------------------------------------\n",
            "need_visited:  deque(['E', 'F', 'J'])\n",
            "node:  E\n",
            "visited:  ['A', 'B', 'C', 'D', 'G', 'H', 'I']\n",
            "need_visited:  deque(['F', 'J'])\n",
            "----------------------------------------\n",
            "need_visited:  deque(['F', 'J'])\n",
            "node:  F\n",
            "visited:  ['A', 'B', 'C', 'D', 'G', 'H', 'I', 'E']\n",
            "need_visited:  deque(['J'])\n",
            "----------------------------------------\n",
            "need_visited:  deque(['J'])\n",
            "node:  J\n",
            "visited:  ['A', 'B', 'C', 'D', 'G', 'H', 'I', 'E', 'F']\n",
            "need_visited:  deque([])\n"
          ]
        },
        {
          "output_type": "execute_result",
          "data": {
            "text/plain": [
              "['A', 'B', 'C', 'D', 'G', 'H', 'I', 'E', 'F', 'J']"
            ]
          },
          "metadata": {},
          "execution_count": 42
        }
      ]
    }
  ]
}