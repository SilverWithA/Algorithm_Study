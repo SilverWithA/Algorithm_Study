{
 "cells": [
  {
   "attachments": {
    "image.png": {
     "image/png": "[encoded data removed]"
    }
   },
   "cell_type": "markdown",
   "id": "a80de370",
   "metadata": {},
   "source": [
    "# 탐색 이론(완전/이분)\n",
    "## 2. 이분 탐색\n",
    "\n",
    "* 오름차순으로 정렬된 리스트에서 특정한 값의 위치를 찾는 알고리즘이다.\n",
    "![image.png](attachment:image.png)"
   ]
  },
  {
   "cell_type": "markdown",
   "id": "7e5bb097",
   "metadata": {},
   "source": [
    "### 구현"
   ]
  },
  {
   "cell_type": "code",
   "execution_count": 5,
   "id": "d6623375",
   "metadata": {},
   "outputs": [
    {
     "name": "stdout",
     "output_type": "stream",
     "text": [
      "원소 수를 입력하세요.: 3\n",
      "x[0]: 1\n",
      "x[1]: 2\n",
      "x[2]: 3\n",
      "검색할 값을 입력하세요.: 3\n",
      "검색 값은 x[2]에 있습니다.\n"
     ]
    }
   ],
   "source": [
    "from typing import Any, Sequence\n",
    "\n",
    "def bin_search(a: Sequence, key: Any) -> int:\n",
    "    \"\"\"시퀀스 a에서 key와 일치하는 원소를 이진 검색\"\"\"\n",
    "    pl = 0           # 검색 범위 맨 앞 원소의 인덱스\n",
    "    pr = len(a) - 1  # 검색 범위 맨 끝 원소의 인덱스\n",
    "\n",
    "    while True:\n",
    "        pc = (pl + pr) // 2  # 중앙 원소의 인덱스\n",
    "        if a[pc] == key:\n",
    "            return pc    # 검색 성공\n",
    "        elif a[pc] < key:\n",
    "            pl = pc + 1  # 검색 범위를 뒤쪽의 절반으로 좁힘\n",
    "        else:\n",
    "            pr = pc - 1  # 검색 범위를 앞쪽의 절반으로 좁힘\n",
    "        if pl > pr:\n",
    "            break\n",
    "    return -1            # 검색 실패\n",
    "\n",
    "\n",
    "\n",
    "if __name__ == '__main__':\n",
    "    num = int(input('원소 수를 입력하세요.: '))  # num 값을 입력\n",
    "    x = [None] * num                           # 원소 수가 num인 배열을 생성\n",
    "\n",
    "    for i in range(num):\n",
    "        x[i] = int(input(f'x[{i}]: '))\n",
    "\n",
    "    ky = int(input('검색할 값을 입력하세요.: '))  # 검색할 키 ky를 입력받음\n",
    "\n",
    "    idx = bin_search(x, ky)                     # ky와 값이 같은 요소를 x에서 검색\n",
    "\n",
    "    if idx == -1:\n",
    "        print('검색 값을 갖는 요소가 존재하지 않습니다.')\n",
    "    else:\n",
    "        print(f'검색 값은 x[{idx}]에 있습니다.')"
   ]
  },
  {
   "cell_type": "code",
   "execution_count": null,
   "id": "8e179a34",
   "metadata": {},
   "outputs": [],
   "source": []
  }
 ],
 "metadata": {
  "kernelspec": {
   "display_name": "Python 3 (ipykernel)",
   "language": "python",
   "name": "python3"
  },
  "language_info": {
   "codemirror_mode": {
    "name": "ipython",
    "version": 3
   },
   "file_extension": ".py",
   "mimetype": "text/x-python",
   "name": "python",
   "nbconvert_exporter": "python",
   "pygments_lexer": "ipython3",
   "version": "3.9.7"
  }
 },
 "nbformat": 4,
 "nbformat_minor": 5
}
