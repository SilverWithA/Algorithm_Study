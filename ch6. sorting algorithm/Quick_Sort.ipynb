{
 "cells": [
  {
   "cell_type": "markdown",
   "id": "28edd30e",
   "metadata": {},
   "source": [
    "## 6-6. 퀵 정렬\n",
    "\n",
    "\n",
    "\n",
    "\n",
    "\n",
    "\n",
    "* ### 분할 정복법(Divide and conquer algorithm)\n",
    "\n",
    "문제를 `작은 문제로 분할`하여 문제를 해결하는 방법으로 퀵정렬과 합병정렬이 이에 해당된다.분할 정복 알고리즘은 보통 `재귀 함수`를 통해 자연스럽게 구현된다.\n",
    "\n",
    "* 복잡도: \n",
    "\n",
    "> 평균: O(n log n)\n",
    "\n",
    "> 최악: O(n2)\n",
    "\n",
    "\n",
    "* 알고리즘\n",
    "\n",
    "피벗을 기준으로 왼편으로는 작은 요소, 오른편으로는 큰 요소가 오도록 정렬하는 알고리즘"
   ]
  },
  {
   "cell_type": "code",
   "execution_count": null,
   "id": "9660d1e1",
   "metadata": {},
   "outputs": [],
   "source": [
    "def partition(a, left, right):\n",
    "    \"\"\" 배열(a)를 피벗을 기준으로 분할하여 정렬하는 퀵정렬 알고리즘 함수\"\"\"\n",
    "    \n",
    "    \n",
    "    pl = left               # 피벗에서 왼쪽\n",
    "    pr = right              # 피벗에서 오른쪽\n",
    "    x = a[(left + right) // 2]   # 피벗\n",
    "    \n",
    "    print(f\"피벗: a[{(left+right) //2}] = {a[x]}\")\n",
    "    print(f'a[{left}]~ a[{right}]: ', *a[left: right + 1])\n",
    "    print()\n",
    "    \n",
    "    while pl <= pr:\n",
    "        while a[pl] < x: pl += 1  # 피벗값보다 왼쪽 요소가 크면 pl 오른쪽으로 한 칸 이동\n",
    "        while a[pr] > x: pr -= 1  # 피벗값이 오른쪽 요소보다 작으면 pr 왼쪽으로 한 칸 이동\n",
    "            \n",
    "        if pl <= pr:             # 피벗값이 a[pl]보다 작으면서 a[pr]보다 클 때 \n",
    "            a[pl],a[pr] = a[pr], a[pl]   # 요소 교환\n",
    "            pl += 1                    # 교환후 pl과 pr 한 칸씩 이동\n",
    "            pr -= 1\n",
    "            \n",
    "            \n",
    "            \n",
    "    # pl > pr인 경우\n",
    "    \n",
    "    if left < pr: partition(a,left,pr)          # 0부터 피벗이었던 자리까지 재귀\n",
    "    if pl < right: partition(a,pl,right)        # 피벗이었던 자리부터 마지막 자리까지 재귀\n",
    "        \n",
    "    return a\n",
    "        \n",
    "\n",
    "        \n",
    "def quick_sort(a):\n",
    "    return partition(a,0, len(a)-1)\n",
    "    "
   ]
  },
  {
   "cell_type": "code",
   "execution_count": null,
   "id": "28973b6e",
   "metadata": {},
   "outputs": [],
   "source": [
    "quick_sort([4,8,1,3,1,2,5,6,4,4,9])"
   ]
  }
 ],
 "metadata": {
  "kernelspec": {
   "display_name": "Python 3 (ipykernel)",
   "language": "python",
   "name": "python3"
  },
  "language_info": {
   "codemirror_mode": {
    "name": "ipython",
    "version": 3
   },
   "file_extension": ".py",
   "mimetype": "text/x-python",
   "name": "python",
   "nbconvert_exporter": "python",
   "pygments_lexer": "ipython3",
   "version": "3.10.9"
  }
 },
 "nbformat": 4,
 "nbformat_minor": 5
}
