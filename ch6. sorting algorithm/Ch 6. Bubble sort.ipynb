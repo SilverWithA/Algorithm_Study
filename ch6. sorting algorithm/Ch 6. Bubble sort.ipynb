{
 "cells": [
  {
   "cell_type": "markdown",
   "id": "7808c73d",
   "metadata": {},
   "source": [
    "## ch6. 정렬\n",
    "### 6-1. 정렬이란\n",
    "### 6-2. 버블 정렬\n",
    "배열에서 이웃 요소의 대소 관계 비교하여 교환하는 정렬 방법\n",
    "\n",
    "요소가 n개인 배열에서 n-1번을 각 요소를 비교하고 교환하면 정렬 끝. 이 과정을 pass라고 함\n",
    "\n",
    "\n",
    "\n",
    "\n",
    "* 교재에서는 맨 끝 인덱스부터 왼쪽으로 진행하며 비교 및 교환을 진행하였지만 해당 코드에서는 왼쪽 인덱스부터 오른쪽으로 이동하며 패쓰를 진행한다"
   ]
  },
  {
   "cell_type": "code",
   "execution_count": 3,
   "id": "d0f65373",
   "metadata": {},
   "outputs": [
    {
     "data": {
      "text/plain": [
       "[1, 2, 4, 4, 5, 6]"
      ]
     },
     "execution_count": 3,
     "metadata": {},
     "output_type": "execute_result"
    }
   ],
   "source": [
    "# 실습 6-1 버블 정렬 구현하기- 패스를 맨 첫번째 요소부터\n",
    "\n",
    "def bubble_sort(a):\n",
    "    n = len(a)\n",
    "    for i in range(n-1): # 비교 횟수\n",
    "        for j in range(i,n-1): # 배열의 왼쪽부터 오른쪽으로 이동하며 비교\n",
    "            if i == 0:   # 첫번째 요소와 마지막 요소가 교환되는 경우 제외\n",
    "                continue\n",
    "            if a[i-1] > a[i]:  \n",
    "                a[i],a[i-1] = a[i-1],a[i]   # 요소 교환\n",
    "                \n",
    "    return a\n",
    "                \n",
    "\n",
    "bubble_sort([5,1,3,4,6,8])"
   ]
  },
  {
   "cell_type": "code",
   "execution_count": 8,
   "id": "3a880dda",
   "metadata": {
    "scrolled": true
   },
   "outputs": [
    {
     "name": "stdout",
     "output_type": "stream",
     "text": [
      "\n",
      "패스1------------------\n",
      " 5   1   3   4   6   8\n",
      " 5 + 1   3   4   6   8\n",
      " 5   1 - 3   4   6   8\n",
      " 5   1   3 - 4   6   8\n",
      " 5   1   3   4 - 6   8\n",
      " 5  1  3  4  6  8 \n",
      "\n",
      "패스2------------------\n",
      " 5 + 1   3   4   6   8\n",
      " 1   5 + 3   4   6   8\n",
      " 1   5   3 - 4   6   8\n",
      " 1   5   3   4 - 6   8\n",
      " 1  5  3  4  6  8 \n",
      "\n",
      "패스3------------------\n",
      " 1   5 + 3   4   6   8\n",
      " 1   3   5 + 4   6   8\n",
      " 1   3   5   4 - 6   8\n",
      " 1  3  5  4  6  8 \n",
      "\n",
      "패스4------------------\n",
      " 1   3   5 + 4   6   8\n",
      " 1   3   4   5 - 6   8\n",
      " 1  3  4  5  6  8 \n",
      "\n",
      "패스5------------------\n",
      " 1   3   4   5 - 6   8\n",
      " 1  3  4  5  6  8 \n",
      "비교를 5번 했습니다.\n",
      "교환을 3번 했습니다.\n"
     ]
    }
   ],
   "source": [
    "# 실습 6-2 bubble_sort_verbose: 정렬 과정 출력\n",
    "\n",
    "def bubble_sort(a):\n",
    "    cct = 0 #  비교횟수\n",
    "    change = 0  # 교환횟수\n",
    "    n = len(a)\n",
    "    for i in range(n-1): # 비교 횟수\n",
    "        cct += 1\n",
    "        print()\n",
    "        print(f\"패스{i+1}------------------\")\n",
    "        \n",
    "        for j in range(i,n-1): # 배열의 왼쪽부터 오른쪽으로 이동하며 비교\n",
    "            for m in range(0,n-1):\n",
    "                print(f'{a[m]:2}' + ('  ' if m != j - 1 else\n",
    "                                    ' +' if a[j - 1] > a[j] else ' -'), \n",
    "                                    end='')\n",
    "            print(f'{a[n - 1]:2}')\n",
    "                      \n",
    "            if i == 0:   # 첫번째 요소와 마지막 요소가 교환되는 경우 제외\n",
    "                continue\n",
    "     \n",
    "                \n",
    "            if a[i-1] > a[i]:  \n",
    "                a[i],a[i-1] = a[i-1],a[i]   # 요소 교환\n",
    "                \n",
    "                change += 1\n",
    "                \n",
    "        for m in range(0,n-1):\n",
    "            print(f\"{a[m]:2}\", end=' ')\n",
    "\n",
    "        print(f\"{a[n-1]:2}\",end=\" \")\n",
    "        print()\n",
    "    print(f'비교를 {cct}번 했습니다.')\n",
    "    print(f'교환을 {change}번 했습니다.')\n",
    "   \n",
    "\n",
    "bubble_sort([5,1,3,4,6,8])"
   ]
  },
  {
   "cell_type": "markdown",
   "id": "a552c28e",
   "metadata": {},
   "source": [
    "* ### 알고리즘 개선1 -> 교환 횟수에 따른 중단\n",
    "\n",
    "n회차 비교를 해야 정렬이 완료되는 과정에서\n",
    "\n",
    "n -3회부터 교환이 단 한번도 일어나지 않는다면 패스를 중단하는 방식으로 개선"
   ]
  },
  {
   "cell_type": "code",
   "execution_count": 28,
   "id": "e28c3f19",
   "metadata": {},
   "outputs": [
    {
     "data": {
      "text/plain": [
       "[1, 3, 4, 6, 8, 5]"
      ]
     },
     "execution_count": 28,
     "metadata": {},
     "output_type": "execute_result"
    }
   ],
   "source": [
    "# 실습 6-2 버블 정렬 알고리즘 개선1\n",
    "    \n",
    "def bubble_sort1(a):\n",
    "    n = len(a)\n",
    "    for i in range(n-1):\n",
    "        change = 0\n",
    "        for j in range(1,n-1):\n",
    "            \n",
    "            if a[i-1] > a[i]:  \n",
    "                a[i],a[i-1] = a[i-1],a[i]   # 요소 교환\n",
    "                change +=1\n",
    "        if change ==0:  # 해당 비교 회차에서 교환이 0번이었다면 for 문 중단 리턴값을 반환한다\n",
    "            break\n",
    "                \n",
    "    return a\n",
    "\n",
    "\n",
    "bubble_sort1([5,1,3,4,6,8])"
   ]
  },
  {
   "cell_type": "markdown",
   "id": "309c98e2",
   "metadata": {},
   "source": [
    "* ### 알고리즘 개선2 -> 정렬이 이미 끝난 인덱스 비교 범위에서 제외하기\n",
    "\n",
    "n= 4일때, \n",
    "\n",
    "비교 1회차에서\n",
    "\n",
    "0~3까지의 인덱스 범위를 비교한다.\n",
    "\n",
    "1회차가 끝나면 맨 마지막 요소는 정렬이 마친 상태가 된다\n",
    "\n",
    "따라서 `비교 2회차에서는 인덱스 0~2까지만 비교`해주면 됨"
   ]
  },
  {
   "cell_type": "code",
   "execution_count": 9,
   "id": "64faf2a7",
   "metadata": {},
   "outputs": [
    {
     "data": {
      "text/plain": [
       "[1, 3, 4, 5, 6, 8]"
      ]
     },
     "execution_count": 9,
     "metadata": {},
     "output_type": "execute_result"
    }
   ],
   "source": [
    "def bubble_sort2(a):\n",
    "    n = len(a)\n",
    "    for i in range(n-1): \n",
    "        \n",
    "        exchg = 0  # 각 패스에서 교환이 일어난 횟수\n",
    "        \n",
    "        for j in range(0,n-i-1):  # 비교 회차에 따라 비교 범위가 줄어든다\n",
    "            if a[j] > a[j+1]:\n",
    "                a[j+1],a[j] = a[j],a[j+1]\n",
    "            \n",
    "    return a\n",
    "\n",
    "            \n",
    "bubble_sort2([5,1,3,4,6,8])"
   ]
  }
 ],
 "metadata": {
  "kernelspec": {
   "display_name": "Python 3 (ipykernel)",
   "language": "python",
   "name": "python3"
  },
  "language_info": {
   "codemirror_mode": {
    "name": "ipython",
    "version": 3
   },
   "file_extension": ".py",
   "mimetype": "text/x-python",
   "name": "python",
   "nbconvert_exporter": "python",
   "pygments_lexer": "ipython3",
   "version": "3.10.9"
  }
 },
 "nbformat": 4,
 "nbformat_minor": 5
}
