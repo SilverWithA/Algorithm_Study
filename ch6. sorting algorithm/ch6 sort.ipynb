{
 "cells": [
  {
   "cell_type": "markdown",
   "id": "7808c73d",
   "metadata": {},
   "source": [
    "## ch6. 정렬"
   ]
  },
  {
   "cell_type": "markdown",
   "id": "4390a8b7",
   "metadata": {},
   "source": [
    "## 6-3. 단순 선택 정렬\n",
    "* ### 과정\n",
    "\n",
    "1. 범위 0부터 n-1 까지 스캔하여 가장 작은 값을 선택해 a[0]과 a[min]과 교환한다.\n",
    "\n",
    "2. 스캔할 범위가 1~n까지로 줄어들고 1의 과정 진행 -> 정렬완료\n",
    "\n",
    "\n",
    "* #### 요솟값 비교 횟수 = (n^2 - n)/2 회\n",
    "\n",
    "안정적이지 않은 정렬 수행 방법 - 인접한 요소를 교환하는 것이 아니기때문에 중복 숫자에 대하여 중복숫자1과 중복숫자2의 순서가 바뀐다."
   ]
  },
  {
   "cell_type": "code",
   "execution_count": 40,
   "id": "9fd1e277",
   "metadata": {},
   "outputs": [
    {
     "data": {
      "text/plain": [
       "[1, 4, 5, 5, 6, 6, 7]"
      ]
     },
     "execution_count": 40,
     "metadata": {},
     "output_type": "execute_result"
    }
   ],
   "source": [
    "# 실습 6-6 단순 선택 정렬\n",
    "\n",
    "def select_sort(a):\n",
    "    \n",
    "    n = len(a)\n",
    "    for i in range(n-1):\n",
    "        min = i     # 정렬할 배열에서 가장 작은 값의 인덱스\n",
    "        for j in range(i+1,n):  # 범위에서 최솟값 스캔\n",
    "            if a[j] < a[min]: \n",
    "                min = j\n",
    "        a[i], a[min] = a[min], a[i]  # 교환\n",
    "    return a\n",
    "        \n",
    "select_sort([1,6,5,7,5,6,4])"
   ]
  },
  {
   "cell_type": "markdown",
   "id": "077195a6",
   "metadata": {},
   "source": [
    "* note: 최소값을 추출하는 과정을 어떻게 구현해야할지 고민이 길었음! "
   ]
  },
  {
   "cell_type": "markdown",
   "id": "be724365",
   "metadata": {},
   "source": [
    "## 6-4. 단순 삽입 정렬\n",
    "\n",
    "* #### 과정\n",
    "2번째 요소부터 선택하여 진행하고 이전요소랑 대소비교하여 알맞은 정렬 자리에 2번째 요소가 삽입되는 것\n",
    "\n",
    "* #### 삽입 과정 \n",
    "\n",
    "선택된 요소보다 작은 요소를 만나기 전까지 이웃한 왼쪽의 요소를 선택 요소 자리에 대입하는 작업을 반족하고 작은 요소를 만나면 선택된 요소를 해당위치에 대입한다.\n",
    "\n",
    "\n",
    "-> 선택요소보다 크다면 한 자리식 밀어내는 과정임\n",
    "* #### 떨어져있는 요소가 바뀌는게 아니라 안정적인 정렬\n",
    "* #### 비교횟수와 교환 횟수는 n^2/2 회 -> 단순 정렬의 시간 복잡도는 모두 O(n^2)"
   ]
  },
  {
   "cell_type": "code",
   "execution_count": 41,
   "id": "f101f0ff",
   "metadata": {},
   "outputs": [],
   "source": [
    "def insertion_sort(a):\n",
    "    n = len(a)\n",
    "    for i in range(1, n):\n",
    "        j = i\n",
    "        tmp = a[i] # 2번째 요소부터 선택\n",
    "        while j > 0 and a[j - 1] > tmp: # 이웃한 왼쪽 요소를 대입해주는 과정\n",
    "            a[j] = a[j - 1]\n",
    "            j -= 1\n",
    "        a[j] = tmp # 선택요소보다 작은 요소를 만났을때 그 자리에 선택 요소가 들어감"
   ]
  },
  {
   "cell_type": "markdown",
   "id": "b1f95fe0",
   "metadata": {},
   "source": [
    "### 6-5. 셸 정렬\n",
    "\n",
    "#### 단순 삽입 정렬을 개선한 정렬\n",
    "* 단순 삽입정렬의 특징\n",
    "\n",
    "a. 삽입 위치가 가까우면 정렬 속도 빠름\n",
    "\n",
    "b. 삽입해야할 위치가 멀면 이동 횟수가 많아짐\n",
    "\n",
    "a의 장점은 살리고 b의 단점은 개선한 것 = 셸 정렬이다\n"
   ]
  },
  {
   "cell_type": "markdown",
   "id": "38ee68cd",
   "metadata": {},
   "source": [
    "* #### 정렬 과정\n",
    "\n",
    "len(a) = 8인 배열일때,\n",
    "\n",
    "4칸씩 떨어진 두 요소를 비교 교환한다\n",
    "\n",
    "그 후 2칸씩 떨어진 네 요소를 비교 교환한다\n",
    "\n",
    "마지막으로 1칸씩 떨어진 여덟개의 요소를 비교 교환한다."
   ]
  },
  {
   "cell_type": "code",
   "execution_count": null,
   "id": "6c2c4314",
   "metadata": {},
   "outputs": [],
   "source": [
    "# 실습 6-8. 셸 정렬 구현하기\n",
    "\n",
    "def shell_sort(a):\n",
    "    \"\"\"배열 a를 셸 정렬을 이용해 정렬하는 함수\"\"\"\n",
    "    \n",
    "    n = len(a)\n",
    "    \n",
    "    for i in range():\n",
    "        if n ==0:\n",
    "            break\n",
    "        else:\n",
    "            n = n // 2"
   ]
  },
  {
   "cell_type": "markdown",
   "id": "5e1f0511",
   "metadata": {},
   "source": [
    "### 6-6. 퀵 정렬"
   ]
  },
  {
   "cell_type": "markdown",
   "id": "40e2bc2b",
   "metadata": {},
   "source": [
    "### 6-7. 병합 정렬"
   ]
  },
  {
   "cell_type": "markdown",
   "id": "04866a5f",
   "metadata": {},
   "source": [
    "### 6-8. 힙 정렬"
   ]
  },
  {
   "cell_type": "markdown",
   "id": "0c219856",
   "metadata": {},
   "source": [
    "### 6-9. 도수 정렬"
   ]
  }
 ],
 "metadata": {
  "kernelspec": {
   "display_name": "Python 3 (ipykernel)",
   "language": "python",
   "name": "python3"
  },
  "language_info": {
   "codemirror_mode": {
    "name": "ipython",
    "version": 3
   },
   "file_extension": ".py",
   "mimetype": "text/x-python",
   "name": "python",
   "nbconvert_exporter": "python",
   "pygments_lexer": "ipython3",
   "version": "3.10.9"
  }
 },
 "nbformat": 4,
 "nbformat_minor": 5
}
