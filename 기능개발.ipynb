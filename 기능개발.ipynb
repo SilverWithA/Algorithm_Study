{
  "nbformat": 4,
  "nbformat_minor": 0,
  "metadata": {
    "colab": {
      "provenance": []
    },
    "kernelspec": {
      "name": "python3",
      "display_name": "Python 3"
    },
    "language_info": {
      "name": "python"
    }
  },
  "cells": [
    {
      "cell_type": "markdown",
      "source": [
        "# 프로그래머스: 기능개발\n",
        "\n",
        "https://school.programmers.co.kr/learn/courses/30/lessons/42586\n"
      ],
      "metadata": {
        "id": "LtR9tNaGLpfK"
      }
    },
    {
      "cell_type": "code",
      "execution_count": 23,
      "metadata": {
        "id": "tviKF73KHOyF"
      },
      "outputs": [],
      "source": [
        "# 문제 이해 - 어려웠음\n",
        "\n",
        "from collections import deque\n",
        "def solution(progresses, speeds):\n",
        "\n",
        "\n",
        "    # 큐 형식으로 변환하여 사용\n",
        "    progresses = deque(progresses)\n",
        "    speeds = deque(speeds)\n",
        "\n",
        "\n",
        "    answer = []\n",
        "    answer_count= []\n",
        "    n = 1\n",
        "\n",
        "\n",
        "    while progresses:   # 개발해야할 기능이 있을 때까지 반복\n",
        "\n",
        "        # n일차 개발 진행\n",
        "        for i in range(len(progresses)):\n",
        "            progresses[i] += speeds[i]\n",
        "\n",
        "        print(f\"{n}일차 개발 현황: \", progresses)\n",
        "        n += 1\n",
        "\n",
        "        # 최우선순위 개발이 완료되었을 경우\n",
        "        cnt = 0\n",
        "        while progresses[0] >=100:\n",
        "          print(\"최우선순위 개발: \", progresses[0])\n",
        "          cnt += 1\n",
        "\n",
        "\n",
        "            # progresses에서 제거\n",
        "          progresses.popleft()\n",
        "          speeds.popleft()\n",
        "\n",
        "          print(\"남겨진 개발 현황: \", progresses)\n",
        "          print(\"-------------------------------------------\")\n",
        "\n",
        "\n",
        "            # 기능이 모두 개발되었을 때 중첩while문 중지\n",
        "          if len(progresses) ==0:\n",
        "                break\n",
        "\n",
        "\n",
        "        # 개발 완료 기능이 하나라도 있으면 return으로 반환할 answer_count 리스트에 append\n",
        "        if cnt != 0:\n",
        "            answer_count.append(cnt)\n",
        "\n",
        "    return answer_count\n",
        ""
      ]
    },
    {
      "cell_type": "code",
      "source": [
        "solution([93, 30, 55],[1, 30, 5])"
      ],
      "metadata": {
        "colab": {
          "base_uri": "https://localhost:8080/"
        },
        "id": "5deH1K10LGnH",
        "outputId": "d8a74a1e-d596-4c5c-8fe4-9ba64ecf7deb"
      },
      "execution_count": 24,
      "outputs": [
        {
          "output_type": "stream",
          "name": "stdout",
          "text": [
            "1일차 개발 현황:  deque([94, 60, 60])\n",
            "2일차 개발 현황:  deque([95, 90, 65])\n",
            "3일차 개발 현황:  deque([96, 120, 70])\n",
            "4일차 개발 현황:  deque([97, 150, 75])\n",
            "5일차 개발 현황:  deque([98, 180, 80])\n",
            "6일차 개발 현황:  deque([99, 210, 85])\n",
            "7일차 개발 현황:  deque([100, 240, 90])\n",
            "최우선순위 개발:  100\n",
            "남겨진 개발 현황:  deque([240, 90])\n",
            "-------------------------------------------\n",
            "최우선순위 개발:  240\n",
            "남겨진 개발 현황:  deque([90])\n",
            "-------------------------------------------\n",
            "8일차 개발 현황:  deque([95])\n",
            "9일차 개발 현황:  deque([100])\n",
            "최우선순위 개발:  100\n",
            "남겨진 개발 현황:  deque([])\n",
            "-------------------------------------------\n"
          ]
        },
        {
          "output_type": "execute_result",
          "data": {
            "text/plain": [
              "[2, 1]"
            ]
          },
          "metadata": {},
          "execution_count": 24
        }
      ]
    },
    {
      "cell_type": "markdown",
      "source": [
        "### 파이썬에서 deque 사용하기\n",
        "\n",
        "* list to queue(리스트를 큐로 변환하여 사용)"
      ],
      "metadata": {
        "id": "-v1DOjquK9-o"
      }
    },
    {
      "cell_type": "code",
      "source": [
        "from collections import deque\n",
        "\n",
        "list1 = [1,2,3]\n",
        "list2 = [4,5,6]\n",
        "\n",
        "queue1 = deque(list1)\n",
        "queue2 = deque(list2)\n",
        "\n",
        "\n",
        "print(queue1)\n",
        "print(queue1[0])"
      ],
      "metadata": {
        "colab": {
          "base_uri": "https://localhost:8080/"
        },
        "id": "-6AdBI_hHT-8",
        "outputId": "936884dd-764e-4189-f537-abbdb7c4f107"
      },
      "execution_count": 17,
      "outputs": [
        {
          "output_type": "stream",
          "name": "stdout",
          "text": [
            "deque([1, 2, 3])\n",
            "1\n"
          ]
        }
      ]
    }
  ]
}