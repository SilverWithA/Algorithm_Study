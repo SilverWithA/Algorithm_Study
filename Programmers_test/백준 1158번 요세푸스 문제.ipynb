{
 "cells": [
  {
   "cell_type": "markdown",
   "id": "a5b93a8a",
   "metadata": {},
   "source": [
    "# 백준 1158번 요세푸스 문제\n",
    "\n",
    "https://www.acmicpc.net/problem/1158\n",
    "\n",
    "\n",
    "요세푸스 문제는 다음과 같다.\n",
    "\n",
    "1번부터 N번까지 N명의 사람이 원을 이루면서 앉아있고, 양의 정수 K(≤ N)가 주어진다. 이제 순서대로 K번째 사람을 제거한다. 한 사람이 제거되면 남은 사람들로 이루어진 원을 따라 이 과정을 계속해 나간다. 이 과정은 N명의 사람이 모두 제거될 때까지 계속된다. 원에서 사람들이 제거되는 순서를 (N, K)-요세푸스 순열이라고 한다. 예를 들어 (7, 3)-요세푸스 순열은 <3, 6, 2, 7, 5, 1, 4>이다.\n",
    "\n",
    "N과 K가 주어지면 (N, K)-요세푸스 순열을 구하는 프로그램을 작성하시오."
   ]
  },
  {
   "cell_type": "code",
   "execution_count": null,
   "id": "819064a6",
   "metadata": {},
   "outputs": [],
   "source": [
    "# 링버퍼로 구현\n",
    "\n",
    "a,b= map(int,input().strip().split(' '))\n",
    "\n",
    "answer = []\n",
    "\n",
    "# 1~a까지의 배열\n",
    "arr = [x for x in range(1,a+1)]\n",
    "\n",
    "# 링버퍼와 포인터 사용 - 큐\n",
    "ptr = b-1\n",
    "\n",
    "while len(arr) > 0:\n",
    "    \n",
    "    answer.append(arr[ptr])\n",
    "    print(\"추출한 원소:\",arr[ptr])\n",
    "    del arr[ptr]\n",
    "    \n",
    "    if len(arr)==0:\n",
    "        print(answer)\n",
    "        \n",
    "    else:\n",
    "        ptr = (ptr + 2) % len(arr)\n",
    "        print(\"포인터의 위치는\", ptr)\n",
    "        print(\"arr의 길이는\",len(arr))\n",
    "        print(\"출력\", answer)\n",
    "        print(\"---------------------------------\")\n",
    "        \n",
    "        \n",
    "        \n"
   ]
  }
 ],
 "metadata": {
  "kernelspec": {
   "display_name": "Python 3 (ipykernel)",
   "language": "python",
   "name": "python3"
  },
  "language_info": {
   "codemirror_mode": {
    "name": "ipython",
    "version": 3
   },
   "file_extension": ".py",
   "mimetype": "text/x-python",
   "name": "python",
   "nbconvert_exporter": "python",
   "pygments_lexer": "ipython3",
   "version": "3.10.9"
  }
 },
 "nbformat": 4,
 "nbformat_minor": 5
}
