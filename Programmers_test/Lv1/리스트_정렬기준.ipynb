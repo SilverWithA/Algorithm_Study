{
 "cells": [
  {
   "cell_type": "markdown",
   "id": "4dd14f7f",
   "metadata": {},
   "source": [
    "## 정렬하기\n",
    "\n",
    "* 정렬 기준: lambda 함수 사용\n"
   ]
  },
  {
   "cell_type": "code",
   "execution_count": 19,
   "id": "97e22af0",
   "metadata": {},
   "outputs": [
    {
     "name": "stdout",
     "output_type": "stream",
     "text": [
      "기본 오름차순 정렬:  [(1, 5), (1, 8), (2, 3), (4, 5), (6, 1), (7, 9)]\n",
      "x를 기준:  [(1, 5), (1, 8), (2, 3), (4, 5), (6, 1), (7, 9)]\n",
      "x[1] 기준:  [(6, 1), (2, 3), (4, 5), (1, 5), (1, 8), (7, 9)]\n",
      "x[0] 기준 동일할시, x[:]기준:  [(1, 5), (1, 8), (2, 3), (4, 5), (6, 1), (7, 9)]\n",
      "\n",
      "내림차순 기본:  [(7, 9), (6, 1), (4, 5), (2, 3), (1, 8), (1, 5)]\n",
      "내림차순:  [(6, 1), (2, 3), (4, 5), (1, 5), (1, 8), (7, 9)]\n"
     ]
    }
   ],
   "source": [
    "arr1 = [(1,8),(2,3),(7,9),(6,1),(4,5),(1,5)]\n",
    "\n",
    "\n",
    "print(\"기본 오름차순 정렬: \",sorted(arr1))\n",
    "\n",
    "print(\"x를 기준: \",sorted(arr1, key = lambda x:x))\n",
    "\n",
    "print(\"x[1] 기준: \",sorted(arr1, key = lambda x:x[1]))\n",
    "\n",
    "print(\"x[0] 기준 동일할시, x[:]기준: \",sorted(arr1, key = lambda x:(x[0],x[:])))\n",
    "\n",
    "print()\n",
    "print(\"내림차순 기본: \",sorted(arr1, reverse = True))\n",
    "print(\"내림차순: \",sorted(arr1, key = lambda x:x[-1]))"
   ]
  },
  {
   "cell_type": "code",
   "execution_count": null,
   "id": "aa9ddbda",
   "metadata": {},
   "outputs": [],
   "source": []
  }
 ],
 "metadata": {
  "kernelspec": {
   "display_name": "Python 3 (ipykernel)",
   "language": "python",
   "name": "python3"
  },
  "language_info": {
   "codemirror_mode": {
    "name": "ipython",
    "version": 3
   },
   "file_extension": ".py",
   "mimetype": "text/x-python",
   "name": "python",
   "nbconvert_exporter": "python",
   "pygments_lexer": "ipython3",
   "version": "3.9.7"
  }
 },
 "nbformat": 4,
 "nbformat_minor": 5
}
