{
 "cells": [
  {
   "cell_type": "markdown",
   "id": "f9f4987e",
   "metadata": {},
   "source": [
    "# 1. 두 정수 사이의 합\n",
    "\n",
    "https://school.programmers.co.kr/learn/courses/30/lessons/12912\n",
    "\n",
    "문제 설명\n",
    "두 정수 a, b가 주어졌을 때 a와 b 사이에 속한 모든 정수의 합을 리턴하는 함수, solution을 완성하세요.\n",
    "예를 들어 a = 3, b = 5인 경우, 3 + 4 + 5 = 12이므로 12를 리턴합니다."
   ]
  },
  {
   "cell_type": "code",
   "execution_count": null,
   "id": "9dc6a35a",
   "metadata": {},
   "outputs": [],
   "source": [
    "# 첫번째 문제풀이\n",
    "\n",
    "def solution(a, b):\n",
    "    sum = 0\n",
    "    \n",
    "    if a <= b:\n",
    "        for i in range(a,b+1):\n",
    "            sum += i\n",
    "        return sum\n",
    "    else:\n",
    "        for i in range(a,b-1,-1):\n",
    "            sum += i\n",
    "        return sum"
   ]
  },
  {
   "cell_type": "code",
   "execution_count": 3,
   "id": "72496ca5",
   "metadata": {},
   "outputs": [
    {
     "name": "stdout",
     "output_type": "stream",
     "text": [
      "12\n",
      "5\n",
      "12\n"
     ]
    }
   ],
   "source": [
    "# 요소 교환을 이용해 짧게 줄이기\n",
    "\n",
    "def solution(a, b):\n",
    "    \n",
    "    sum = 0\n",
    "    \n",
    "    if a> b:   # 먼저 입력된 a가 후에 입력된 b보다 클 때\n",
    "        a,b = b,a   # 요소 교환\n",
    "    for i in range(a,b+1):\n",
    "        sum += i\n",
    "    return sum\n",
    "\n",
    "print(solution(3,5))\n",
    "print(solution(5,5))\n",
    "print(solution(5,3))"
   ]
  },
  {
   "cell_type": "markdown",
   "id": "f28c95e0",
   "metadata": {},
   "source": [
    "# 2. 수박수박수박수박수박수?\n",
    "\n",
    "https://school.programmers.co.kr/learn/courses/30/lessons/12922\n",
    "\n",
    "\n",
    "문제 설명\n",
    "길이가 n이고, \"수박수박수박수....\"와 같은 패턴을 유지하는 문자열을 리턴하는 함수, solution을 완성하세요. 예를들어 n이 4이면 \"수박수박\"을 리턴하고 3이라면 \"수박수\"를 리턴하면 됩니다."
   ]
  },
  {
   "cell_type": "code",
   "execution_count": 2,
   "id": "f06f9e46",
   "metadata": {},
   "outputs": [
    {
     "data": {
      "text/plain": [
       "'수박수박'"
      ]
     },
     "execution_count": 2,
     "metadata": {},
     "output_type": "execute_result"
    }
   ],
   "source": [
    "def solution(n):\n",
    "    \n",
    "    # 수박 이라는 글자가 입력된 n을 2로 나눴을때의 몫만큼 반복하고\n",
    "    # n이 홀수이면 그 값에 '수'를 2로 나눴을 때의 나머지만큼 덧붙인다\n",
    "    \n",
    "    \n",
    "    return '수박'*(n//2) + '수' * (n % 2)\n",
    "\n",
    "solution(3)\n",
    "solution(4)"
   ]
  },
  {
   "cell_type": "markdown",
   "id": "48c78802",
   "metadata": {},
   "source": [
    "# 3. 김서방 찾기\n",
    "\n",
    "문제 설명\n",
    "String형 배열 seoul의 element중 \"Kim\"의 위치 x를 찾아, \"김서방은 x에 있다\"는 String을 반환하는 함수, solution을 완성하세요. seoul에 \"Kim\"은 오직 한 번만 나타나며 잘못된 값이 입력되는 경우는 없습니다."
   ]
  },
  {
   "cell_type": "code",
   "execution_count": 6,
   "id": "767b1aa3",
   "metadata": {},
   "outputs": [
    {
     "name": "stdout",
     "output_type": "stream",
     "text": [
      "김서방은 1에 있다\n"
     ]
    }
   ],
   "source": [
    "# 첫번째 풀이\n",
    "\n",
    "\n",
    "def solution(seoul):\n",
    "    for i in range(len(seoul)):\n",
    "        if seoul[i] == \"Kim\":\n",
    "            print(f\"김서방은 {i}에 있다\")\n",
    "\n",
    "solution([\"Jane\", \"Kim\"])"
   ]
  },
  {
   "cell_type": "markdown",
   "id": "049ab13f",
   "metadata": {},
   "source": [
    "위에 풀이가 오답으로 출력되는데 이유는 문제에서 요구한 return 값이 \"김서방은 1에 있다\"와 같은 쌍따옴표로 감싸진 값이기 때문이다."
   ]
  },
  {
   "cell_type": "code",
   "execution_count": 7,
   "id": "818eb9c8",
   "metadata": {},
   "outputs": [
    {
     "data": {
      "text/plain": [
       "'김서방은 1에 있다.'"
      ]
     },
     "execution_count": 7,
     "metadata": {},
     "output_type": "execute_result"
    }
   ],
   "source": [
    "def solution(seoul):\n",
    "    for i in range(len(seoul)):\n",
    "        if seoul[i] == \"Kim\":\n",
    "            answer = i\n",
    "    return (\"김서방은 \" + str(answer) + \"에 있다.\")\n",
    "        \n",
    "solution([\"Jane\",\"Kim\"])\n"
   ]
  },
  {
   "cell_type": "markdown",
   "id": "794f8aef",
   "metadata": {},
   "source": [
    "# 4. 약수의 합\n",
    "\n",
    "https://school.programmers.co.kr/learn/courses/30/lessons/12928\n",
    "\n",
    "문제 설명\n",
    "정수 n을 입력받아 n의 약수를 모두 더한 값을 리턴하는 함수, solution을 완성해주세요."
   ]
  },
  {
   "cell_type": "code",
   "execution_count": 9,
   "id": "22498f0e",
   "metadata": {},
   "outputs": [
    {
     "name": "stdout",
     "output_type": "stream",
     "text": [
      "28\n",
      "6\n"
     ]
    }
   ],
   "source": [
    "def solution(n):\n",
    "    sum = 0\n",
    "\n",
    "    for i in range(1,n+1):\n",
    "        if n % i == 0:   # 약수이면 \n",
    "            sum += i     # sum값에 더해줌\n",
    "    \n",
    "    \n",
    "    return sum\n",
    "\n",
    "\n",
    "\n",
    "\n",
    "print(solution(12))\n",
    "print(solution(5))"
   ]
  },
  {
   "cell_type": "markdown",
   "id": "0ca5729d",
   "metadata": {},
   "source": [
    "# 5. 문자열 내 p와 y의 개수\n",
    "\n",
    "\n",
    "https://school.programmers.co.kr/learn/courses/30/lessons/12916\n",
    "\n",
    "\n",
    "문제 설명\n",
    "대문자와 소문자가 섞여있는 문자열 s가 주어집니다. s에 'p'의 개수와 'y'의 개수를 비교해 같으면 True, 다르면 False를 return 하는 solution를 완성하세요. 'p', 'y' 모두 하나도 없는 경우는 항상 True를 리턴합니다. 단, 개수를 비교할 때 대문자와 소문자는 구별하지 않습니다.\n",
    "\n",
    "예를 들어 s가 \"pPoooyY\"면 true를 return하고 \"Pyy\"라면 false를 return합니다."
   ]
  },
  {
   "cell_type": "code",
   "execution_count": 10,
   "id": "d2535e32",
   "metadata": {},
   "outputs": [
    {
     "name": "stdout",
     "output_type": "stream",
     "text": [
      "True\n",
      "False\n"
     ]
    }
   ],
   "source": [
    "def solution(s):\n",
    "    \n",
    "    t = s.lower()\n",
    "    if t.count(\"p\") == t.count(\"y\"):\n",
    "        return True\n",
    "    else:\n",
    "        return False\n",
    "\n",
    "    \n",
    "\n",
    "\n",
    "\n",
    "print(solution(\"pPoooyY\"))\n",
    "print(solution(\"Pyy\"))"
   ]
  },
  {
   "cell_type": "markdown",
   "id": "d00669a3",
   "metadata": {},
   "source": [
    "lower() 혹은 upper()을 사용하여 비교할 문자열을 소문자 혹은 대문자로 통일\n",
    "\n",
    "if문을 활용해 문자열 내 \"p\"와 \"y\"값이 동일하면 return True 아니면 False"
   ]
  },
  {
   "cell_type": "markdown",
   "id": "ca0336c3",
   "metadata": {},
   "source": [
    "# 6. 같은 숫자는 싫어\n",
    "\n",
    "https://school.programmers.co.kr/learn/courses/30/lessons/12906\n",
    "\n",
    "\n",
    "문제 설명\n",
    "배열 arr가 주어집니다. 배열 arr의 각 원소는 숫자 0부터 9까지로 이루어져 있습니다. 이때, 배열 arr에서 연속적으로 나타나는 숫자는 하나만 남기고 전부 제거하려고 합니다. 단, 제거된 후 남은 수들을 반환할 때는 배열 arr의 원소들의 순서를 유지해야 합니다. 예를 들면,\n",
    "\n",
    "arr = [1, 1, 3, 3, 0, 1, 1] 이면 [1, 3, 0, 1] 을 return 합니다.\n",
    "\n",
    "arr = [4, 4, 4, 3, 3] 이면 [4, 3] 을 return 합니다.\n",
    "\n",
    "배열 arr에서 연속적으로 나타나는 숫자는 제거하고 남은 수들을 return 하는 solution 함수를 완성해 주세요."
   ]
  },
  {
   "cell_type": "markdown",
   "id": "48a80cc0",
   "metadata": {},
   "source": [
    "### 첫번째 시도"
   ]
  },
  {
   "cell_type": "code",
   "execution_count": 29,
   "id": "f86d9332",
   "metadata": {},
   "outputs": [
    {
     "ename": "IndexError",
     "evalue": "list index out of range",
     "output_type": "error",
     "traceback": [
      "\u001b[1;31m---------------------------------------------------------------------------\u001b[0m",
      "\u001b[1;31mIndexError\u001b[0m                                Traceback (most recent call last)",
      "Cell \u001b[1;32mIn[29], line 7\u001b[0m\n\u001b[0;32m      4\u001b[0m             \u001b[38;5;28;01mdel\u001b[39;00m arr[i\u001b[38;5;241m+\u001b[39m\u001b[38;5;241m1\u001b[39m]\n\u001b[0;32m      5\u001b[0m     \u001b[38;5;28;01mreturn\u001b[39;00m arr\n\u001b[1;32m----> 7\u001b[0m \u001b[38;5;28mprint\u001b[39m(\u001b[43msolution\u001b[49m\u001b[43m(\u001b[49m\u001b[43m[\u001b[49m\u001b[38;5;241;43m1\u001b[39;49m\u001b[43m,\u001b[49m\u001b[38;5;241;43m1\u001b[39;49m\u001b[43m,\u001b[49m\u001b[38;5;241;43m3\u001b[39;49m\u001b[43m,\u001b[49m\u001b[38;5;241;43m3\u001b[39;49m\u001b[43m,\u001b[49m\u001b[38;5;241;43m0\u001b[39;49m\u001b[43m,\u001b[49m\u001b[38;5;241;43m1\u001b[39;49m\u001b[43m,\u001b[49m\u001b[38;5;241;43m1\u001b[39;49m\u001b[43m]\u001b[49m\u001b[43m)\u001b[49m)\n\u001b[0;32m      8\u001b[0m \u001b[38;5;28mprint\u001b[39m(solution([\u001b[38;5;241m4\u001b[39m,\u001b[38;5;241m4\u001b[39m,\u001b[38;5;241m4\u001b[39m,\u001b[38;5;241m3\u001b[39m,\u001b[38;5;241m3\u001b[39m]))\n",
      "Cell \u001b[1;32mIn[29], line 3\u001b[0m, in \u001b[0;36msolution\u001b[1;34m(arr)\u001b[0m\n\u001b[0;32m      1\u001b[0m \u001b[38;5;28;01mdef\u001b[39;00m \u001b[38;5;21msolution\u001b[39m(arr):\n\u001b[0;32m      2\u001b[0m     \u001b[38;5;28;01mfor\u001b[39;00m i \u001b[38;5;129;01min\u001b[39;00m \u001b[38;5;28mrange\u001b[39m(\u001b[38;5;28mlen\u001b[39m(arr)):\n\u001b[1;32m----> 3\u001b[0m         \u001b[38;5;28;01mif\u001b[39;00m \u001b[43marr\u001b[49m\u001b[43m[\u001b[49m\u001b[43mi\u001b[49m\u001b[43m]\u001b[49m \u001b[38;5;241m==\u001b[39m arr[i\u001b[38;5;241m+\u001b[39m\u001b[38;5;241m1\u001b[39m]:\n\u001b[0;32m      4\u001b[0m             \u001b[38;5;28;01mdel\u001b[39;00m arr[i\u001b[38;5;241m+\u001b[39m\u001b[38;5;241m1\u001b[39m]\n\u001b[0;32m      5\u001b[0m     \u001b[38;5;28;01mreturn\u001b[39;00m arr\n",
      "\u001b[1;31mIndexError\u001b[0m: list index out of range"
     ]
    }
   ],
   "source": [
    "\n",
    "\n",
    "def solution(arr):\n",
    "    for i in range(len(arr)):\n",
    "        if arr[i] == arr[i+1]:\n",
    "            del arr[i+1]\n",
    "    return arr\n",
    "\n",
    "print(solution([1,1,3,3,0,1,1]))\n",
    "print(solution([4,4,4,3,3]))"
   ]
  },
  {
   "cell_type": "markdown",
   "id": "e6fe60a1",
   "metadata": {},
   "source": [
    "에러이유: arr가 for문을 돌면서 len(arr)가 변해서 도주엥 out of range 에러 발생\n",
    "\n",
    "### 두번째 시도"
   ]
  },
  {
   "cell_type": "code",
   "execution_count": null,
   "id": "3c8cf6be",
   "metadata": {},
   "outputs": [],
   "source": [
    "\n",
    "def solution(arr):\n",
    "    \n",
    "    index = []\n",
    "    for i in range(len(arr)-1):\n",
    "        \n",
    "        if arr[i] == arr[i+1]:\n",
    "            index.append(i+1)\n",
    "            \n",
    "    for m in index:\n",
    "        del arr[m] \n",
    "\n",
    "    return arr\n"
   ]
  },
  {
   "cell_type": "markdown",
   "id": "fafc84b6",
   "metadata": {},
   "source": [
    "index 위치에 있는 원소 del 로 삭제하면 index가 바뀌어서 삭제하고자하는 원소 삭제 x\n",
    "\n",
    "### 세번째 시도 \n",
    "\n",
    "기존 arr 배열에서 중복 원소를 삭제하는 것이 아니라 새 리스트에 중복되지 않는 원소만 쌓아주는 방법"
   ]
  },
  {
   "cell_type": "code",
   "execution_count": 27,
   "id": "d1622fc9",
   "metadata": {},
   "outputs": [
    {
     "name": "stdout",
     "output_type": "stream",
     "text": [
      "[1, 3, 0, 1]\n",
      "[4, 3]\n"
     ]
    }
   ],
   "source": [
    "def solution(arr):\n",
    "    \n",
    "    \n",
    "    new_arr = []\n",
    "    \n",
    "    for i in range(len(arr)):\n",
    "        if i == 0:                # arr의 첫번째 요소를 먼저 추가해줌\n",
    "            new_arr.append(arr[i])\n",
    "        \n",
    "        elif arr[i] != arr[i-1]:   # 연속된 요소가 같지 않다면 빈리스트에 저장\n",
    "            new_arr.append(arr[i])\n",
    "            \n",
    "    return new_arr\n",
    "            \n",
    "\n",
    "\n",
    "print(solution([1,1,3,3,0,1,1]))\n",
    "print(solution([4,4,4,3,3]))"
   ]
  },
  {
   "cell_type": "markdown",
   "id": "39edbb08",
   "metadata": {},
   "source": [
    "# 7. 가운데 글자 가져오기\n",
    "\n",
    "\n",
    "https://school.programmers.co.kr/learn/courses/30/lessons/12903\n",
    "\n",
    "문제 설명\n",
    "단어 s의 가운데 글자를 반환하는 함수, solution을 만들어 보세요. 단어의 길이가 짝수라면 가운데 두글자를 반환하면 됩니다.\n",
    "\n",
    "재한사항\n",
    "s는 길이가 1 이상, 100이하인 스트링입니다.\n"
   ]
  },
  {
   "cell_type": "code",
   "execution_count": 36,
   "id": "168acbb7",
   "metadata": {},
   "outputs": [
    {
     "name": "stdout",
     "output_type": "stream",
     "text": [
      "c\n",
      "we\n"
     ]
    }
   ],
   "source": [
    "def solution(str):\n",
    "    \n",
    "    n = len(str)\n",
    "    mid = n //2\n",
    "    \n",
    "    # 문자열이 짝수일때\n",
    "    if n % 2 == 0:\n",
    "        return str[mid-1:mid+1]\n",
    "    \n",
    "    \n",
    "    # 문자열이 홀수일때 \n",
    "    else:\n",
    "        return str[mid]\n",
    "    \n",
    "print(solution(\"abcde\"))\n",
    "print(solution(\"qwer\"))"
   ]
  },
  {
   "cell_type": "markdown",
   "id": "8aff81ad",
   "metadata": {},
   "source": [
    "가운데 글자 -홀짝을 기준으로 조건을 나누어 return한다\n",
    "\n",
    "주의 str[mid-1:mid+1]로 해야 두개의문자열이 잘려서 출력한다"
   ]
  },
  {
   "cell_type": "markdown",
   "id": "d2aab328",
   "metadata": {},
   "source": [
    "# 8. x만큼 간격이 있는 n개의 숫자\n",
    "\n",
    "https://school.programmers.co.kr/learn/courses/30/lessons/12954#qna\n",
    "\n",
    "문제 설명\n",
    "함수 solution은 정수 x와 자연수 n을 입력 받아, x부터 시작해 x씩 증가하는 숫자를 n개 지니는 리스트를 리턴해야 합니다. 다음 제한 조건을 보고, 조건을 만족하는 함수, solution을 완성해주세요."
   ]
  },
  {
   "cell_type": "code",
   "execution_count": 39,
   "id": "9d094393",
   "metadata": {},
   "outputs": [
    {
     "name": "stdout",
     "output_type": "stream",
     "text": [
      "[2, 4, 6, 8, 10]\n",
      "[4, 8, 12]\n",
      "[-4, -8]\n"
     ]
    }
   ],
   "source": [
    "def solution(a,b):\n",
    "    \n",
    "    answer = []\n",
    "    \n",
    "    for i in range(1,b+1):\n",
    "        answer.append(a*i)\n",
    "        \n",
    "    return answer\n",
    "        \n",
    "print(solution(2,5))\n",
    "print(solution(4,3))\n",
    "print(solution(-4,2))       "
   ]
  },
  {
   "cell_type": "markdown",
   "id": "2c8a2a47",
   "metadata": {},
   "source": [
    "# 9. 직사각형 별찍기\n",
    "\n",
    "https://school.programmers.co.kr/learn/courses/30/lessons/12969\n",
    "\n",
    "\n",
    "문제 설명\n",
    "\n",
    "\n",
    "이 문제에는 표준 입력으로 두 개의 정수 n과 m이 주어집니다.\n",
    "\n",
    "\n",
    "별(*) 문자를 이용해 가로의 길이가 n, 세로의 길이가 m인 직사각형 형태를 출력해보세요.\n"
   ]
  },
  {
   "cell_type": "code",
   "execution_count": 41,
   "id": "1cca2547",
   "metadata": {},
   "outputs": [
    {
     "name": "stdout",
     "output_type": "stream",
     "text": [
      "5 3\n",
      "*****\n",
      "*****\n",
      "*****\n"
     ]
    }
   ],
   "source": [
    "# 표준 입력. 띄어쓰기를 기준으로 a와 b를 입력받아 변수에 할당\n",
    "\n",
    "\n",
    "# map(함수, iterable)\n",
    "a, b = map(int, input().strip().split(' '))\n",
    "\n",
    "for _ in range(b):\n",
    "    print(a *'*')\n",
    "    \n",
    "# for _ in b: 만하면 int는 not iterable이라고 에러 발생"
   ]
  },
  {
   "cell_type": "markdown",
   "id": "5c408c03",
   "metadata": {},
   "source": [
    "# 10. 평균 구하기\n",
    "\n",
    "https://school.programmers.co.kr/learn/courses/30/lessons/12944?language=python3\n",
    "\n",
    "문제 설명\n",
    "정수를 담고 있는 배열 arr의 평균값을 return하는 함수, solution을 완성해보세요."
   ]
  },
  {
   "cell_type": "code",
   "execution_count": 50,
   "id": "fa4d34c9",
   "metadata": {},
   "outputs": [
    {
     "name": "stdout",
     "output_type": "stream",
     "text": [
      "2.5\n",
      "5.0\n"
     ]
    }
   ],
   "source": [
    "def solution(arr):\n",
    "    \n",
    "    \n",
    "    new_arr =list(set(arr))\n",
    "    n = len(new_arr)\n",
    "    \n",
    "    sum = 0\n",
    "    \n",
    "    for i in new_arr:\n",
    "        sum += i\n",
    "    return sum / n\n",
    "\n",
    "\n",
    "print(solution([1,2,3,4]))\n",
    "print(solution([5,5]))"
   ]
  },
  {
   "cell_type": "code",
   "execution_count": 48,
   "id": "a582ed02",
   "metadata": {},
   "outputs": [
    {
     "name": "stdout",
     "output_type": "stream",
     "text": [
      "2.5\n",
      "5.0\n"
     ]
    }
   ],
   "source": [
    "def solution(arr):\n",
    "\n",
    "    return sum(arr)/len(arr)\n",
    "\n",
    "print(solution([1,2,3,4]))\n",
    "print(solution([5,5]))"
   ]
  },
  {
   "cell_type": "markdown",
   "id": "668571ca",
   "metadata": {},
   "source": [
    "# 11. 행렬의 덧셈\n",
    "https://school.programmers.co.kr/learn/courses/30/lessons/12950\n",
    "\n",
    "문제 설명\n",
    "행렬의 덧셈은 행과 열의 크기가 같은 두 행렬의 같은 행, 같은 열의 값을 서로 더한 결과가 됩니다. 2개의 행렬 arr1과 arr2를 입력받아, 행렬 덧셈의 결과를 반환하는 함수, solution을 완성해주세요."
   ]
  },
  {
   "cell_type": "code",
   "execution_count": 55,
   "id": "bbcd91eb",
   "metadata": {},
   "outputs": [
    {
     "name": "stdout",
     "output_type": "stream",
     "text": [
      "[[4, 6], [7, 9]]\n",
      "[[4], [6]]\n"
     ]
    }
   ],
   "source": [
    "# 첫번째 풀이\n",
    "\n",
    "def solution(arr1,arr2):\n",
    "    \n",
    "    n1 = len(arr1)\n",
    "    n2 = len(arr1[0])\n",
    "    new_arr = arr1\n",
    "    \n",
    "    for i in range(n1):\n",
    "        for j in range(n2):\n",
    "            new_arr[i][j] = arr1[i][j] + arr2[i][j]\n",
    "            \n",
    "    return new_arr\n",
    "\n",
    "\n",
    "print(solution([[1,2],[2,3]],[[3,4],[5,6]]))\n",
    "print(solution([[1],[2]],[[3],[4]]))"
   ]
  },
  {
   "cell_type": "code",
   "execution_count": 58,
   "id": "5db55e2b",
   "metadata": {},
   "outputs": [],
   "source": [
    "# 두번째 풀이. 매서드 사용해서 풀기\n",
    "\n",
    "def solution(arr1,arr2):\n",
    "    \n",
    "    answer = [[c+d for c,d in zip(a,b)] for a,b in zip(arr1,arr2)]\n",
    "    \n",
    "    return answer\n",
    "\n",
    "print(solution([[1,2],[2,3]],[[3,4],[5,6]]))\n",
    "print(solution([[1],[2]],[[3],[4]]))"
   ]
  },
  {
   "cell_type": "code",
   "execution_count": 59,
   "id": "d3c47e46",
   "metadata": {},
   "outputs": [
    {
     "data": {
      "text/plain": [
       "[3, 5]"
      ]
     },
     "execution_count": 59,
     "metadata": {},
     "output_type": "execute_result"
    }
   ],
   "source": [
    "# zip 매서드 사용 방법\n",
    "\n",
    "answer = [c+d for c,d in zip([1,2], [2,3])]\n",
    "answer"
   ]
  },
  {
   "cell_type": "markdown",
   "id": "3c906cc5",
   "metadata": {},
   "source": [
    "# 12. 짝수와 홀수\n",
    "\n",
    "https://school.programmers.co.kr/learn/courses/30/lessons/12937\n",
    "\n",
    "문제 설명\n",
    "정수 num이 짝수일 경우 \"Even\"을 반환하고 홀수인 경우 \"Odd\"를 반환하는 함수, solution을 완성해주세요.\n"
   ]
  },
  {
   "cell_type": "code",
   "execution_count": 60,
   "id": "5220f8cf",
   "metadata": {},
   "outputs": [
    {
     "name": "stdout",
     "output_type": "stream",
     "text": [
      "Odd\n",
      "Even\n"
     ]
    }
   ],
   "source": [
    "def solution(num):\n",
    "    \n",
    "    if num % 2 ==0:\n",
    "        return \"Even\"\n",
    "    else:\n",
    "        return \"Odd\"\n",
    "\n",
    "print(solution(3))\n",
    "print(solution(4))"
   ]
  },
  {
   "cell_type": "markdown",
   "id": "3140e76a",
   "metadata": {},
   "source": [
    "# 13. 자릿수 더하기\n",
    "\n",
    "https://school.programmers.co.kr/learn/courses/30/lessons/12931\n",
    "\n",
    "문제 설명\n",
    "자연수 N이 주어지면, N의 각 자릿수의 합을 구해서 return 하는 solution 함수를 만들어 주세요.\n",
    "예를들어 N = 123이면 1 + 2 + 3 = 6을 return 하면 됩니다."
   ]
  },
  {
   "cell_type": "code",
   "execution_count": 61,
   "id": "f790940a",
   "metadata": {},
   "outputs": [
    {
     "name": "stdout",
     "output_type": "stream",
     "text": [
      "6\n",
      "24\n"
     ]
    }
   ],
   "source": [
    "def solution(n):\n",
    "    string = str(n)\n",
    "    arr = []\n",
    "    \n",
    "    for i in string:\n",
    "        i = int(i)\n",
    "        arr.append(i)\n",
    "\n",
    "        \n",
    "    return sum(arr)\n",
    "\n",
    "print(solution(123))\n",
    "print(solution(987))"
   ]
  },
  {
   "cell_type": "markdown",
   "id": "929d99a1",
   "metadata": {},
   "source": [
    "* # 14. 최대공약수와 최소공배수\n",
    "\n",
    "https://school.programmers.co.kr/learn/courses/30/lessons/12940\n",
    "\n",
    "문제 설명\n",
    "두 수를 입력받아 두 수의 최대공약수와 최소공배수를 반환하는 함수, solution을 완성해 보세요. 배열의 맨 앞에 최대공약수, 그다음 최소공배수를 넣어 반환하면 됩니다. 예를 들어 두 수 3, 12의 최대공약수는 3, 최소공배수는 12이므로 solution(3, 12)는 [3, 12]를 반환해야 합니다."
   ]
  },
  {
   "cell_type": "code",
   "execution_count": null,
   "id": "97b51b6b",
   "metadata": {},
   "outputs": [],
   "source": []
  },
  {
   "cell_type": "markdown",
   "id": "9028150e",
   "metadata": {},
   "source": [
    "# 15. 정수 제곱근 판별\n",
    "\n",
    "\n",
    "https://school.programmers.co.kr/learn/courses/30/lessons/12934\n",
    "\n",
    "문제 설명\n",
    "임의의 양의 정수 n에 대해, n이 어떤 양의 정수 x의 제곱인지 아닌지 판단하려 합니다.\n",
    "n이 양의 정수 x의 제곱이라면 x+1의 제곱을 리턴하고, n이 양의 정수 x의 제곱이 아니라면 -1을 리턴하는 함수를 완성하세요."
   ]
  },
  {
   "cell_type": "code",
   "execution_count": 63,
   "id": "6d9173bc",
   "metadata": {},
   "outputs": [
    {
     "name": "stdout",
     "output_type": "stream",
     "text": [
      "144\n",
      "-1\n"
     ]
    }
   ],
   "source": [
    "def solution(n):\n",
    "    \n",
    "    \n",
    "    # n의 반절 정숫값까지 제곱 연산 수행\n",
    "    # 이때 n값이 나온다면 i는 n의 제곱근\n",
    "    for i in range(n//2):\n",
    "        if i*i == n:\n",
    "            return (i+1)*(i+1)\n",
    "        \n",
    "    else:\n",
    "        return -1\n",
    "    \n",
    "print(solution(121))\n",
    "print(solution(3))"
   ]
  }
 ],
 "metadata": {
  "kernelspec": {
   "display_name": "Python 3 (ipykernel)",
   "language": "python",
   "name": "python3"
  },
  "language_info": {
   "codemirror_mode": {
    "name": "ipython",
    "version": 3
   },
   "file_extension": ".py",
   "mimetype": "text/x-python",
   "name": "python",
   "nbconvert_exporter": "python",
   "pygments_lexer": "ipython3",
   "version": "3.10.9"
  }
 },
 "nbformat": 4,
 "nbformat_minor": 5
}
